{
 "cells": [
  {
   "cell_type": "code",
   "execution_count": 2,
   "id": "a9345193",
   "metadata": {},
   "outputs": [],
   "source": [
    "import numpy as np"
   ]
  },
  {
   "cell_type": "markdown",
   "id": "ce099d93",
   "metadata": {},
   "source": [
    "1. You are given a 2D NumPy array that represents the average temperatures (in °C) of 5 cities over 7 days:"
   ]
  },
  {
   "cell_type": "code",
   "execution_count": null,
   "id": "f46a1c3a",
   "metadata": {},
   "outputs": [],
   "source": [
    "temps = np.array([\n",
    "    [30, 32, 33, 31, 29, 28, 30],  # City A\n",
    "    [25, 27, 26, 24, 23, 22, 24],  # City B\n",
    "    [20, 19, 21, 22, 23, 24, 26],  # City C\n",
    "    [35, 34, 36, 37, 38, 36, 35],  # City D\n",
    "    [15, 16, 17, 18, 17, 16, 15]   # City E\n",
    "])\n",
    "\n",
    "# 1. Get the temperature data for City C.\n",
    "print(temps[2],\"\\n\")\n",
    "\n",
    "# 2. Get the temperatures for all cities on Day 3 (3rd column).\n",
    "print(temps[:,2],\"\\n\")\n",
    "\n",
    "# 3. Get the last 3 days’ data for all cities.\n",
    "print(temps[:,4:],\"\\n\")\n",
    "\n",
    "# 4. Get the temperatures for City A and City D only, for Day 2 and Day 5.\n",
    "print(temps[0:4:3,1:5:3],\"\\n\")\n",
    "\n",
    "# 5. Get all temperatures greater than 30°C.\n",
    "j = 1     # City counter\n",
    "for city in temps:\n",
    "    i = 1    # Day counter (start from 1)\n",
    "    for temp in city:\n",
    "        if temp > 30:\n",
    "            print(f\"City: {j}, {temp}, Day {i}\\n\")\n",
    "        i += 1\n",
    "    j += 1\n",
    "\n",
    "# 6. Replace all temperatures below 20°C with 0.\n",
    "for city_idx, city in enumerate(temps):\n",
    "    for day_idx, temp in enumerate(city):\n",
    "        if temp < 20:\n",
    "            temps[city_idx][day_idx] = 0  # update in the original list\n",
    "\n",
    "print(temps,\"\\n\")\n",
    "\n",
    "# 7. Get the average temperature for each city.\n",
    "for city_idx, city in enumerate(temps,start=1):\n",
    "    print(f\"city {city_idx} --> {city.mean()}\")"
   ]
  },
  {
   "cell_type": "markdown",
   "id": "22fa547f",
   "metadata": {},
   "source": [
    "2. You're given a NumPy array of average monthly temperatures (in °C) for 3 cities:"
   ]
  },
  {
   "cell_type": "markdown",
   "id": "37fcb01e",
   "metadata": {},
   "source": [
    "--> Task \n",
    "1. Create a view of the temps array and increase all temperatures in City B by 2°C using the view. Print both the original and the view arrays to show the effect.\n",
    "\n",
    "2. Create a copy of the temps array and decrease all temperatures in City C by 5°C in the copy. Show that the original array remains unchanged."
   ]
  },
  {
   "cell_type": "code",
   "execution_count": null,
   "id": "4022b570",
   "metadata": {},
   "outputs": [],
   "source": [
    "temps = np.array([\n",
    "    [30, 32, 33, 35, 31, 30],   # City A\n",
    "    [22, 24, 23, 25, 26, 27],   # City B\n",
    "    [18, 19, 20, 21, 22, 20]    # City C\n",
    "])\n",
    "\n",
    "temps_view = temps.view()\n",
    "temps_view[1] += 2\n",
    "\n",
    "print(temps_view,\"\\n\")\n",
    "\n",
    "temps_cp = temps.copy()\n",
    "temps_cp[2] -= 5\n",
    "print(temps_cp)"
   ]
  },
  {
   "cell_type": "code",
   "execution_count": null,
   "id": "74589be8",
   "metadata": {},
   "outputs": [],
   "source": []
  }
 ],
 "metadata": {
  "kernelspec": {
   "display_name": "Python 3",
   "language": "python",
   "name": "python3"
  },
  "language_info": {
   "codemirror_mode": {
    "name": "ipython",
    "version": 3
   },
   "file_extension": ".py",
   "mimetype": "text/x-python",
   "name": "python",
   "nbconvert_exporter": "python",
   "pygments_lexer": "ipython3",
   "version": "3.11.9"
  }
 },
 "nbformat": 4,
 "nbformat_minor": 5
}
