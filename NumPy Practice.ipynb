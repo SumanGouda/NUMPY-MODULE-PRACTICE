{
 "cells": [
  {
   "cell_type": "code",
   "execution_count": 2,
   "id": "a9345193",
   "metadata": {},
   "outputs": [],
   "source": [
    "import numpy as np"
   ]
  },
  {
   "cell_type": "markdown",
   "id": "ce099d93",
   "metadata": {},
   "source": [
    "1. You are given a 2D NumPy array that represents the average temperatures (in °C) of 5 cities over 7 days:"
   ]
  },
  {
   "cell_type": "code",
   "execution_count": null,
   "id": "f46a1c3a",
   "metadata": {},
   "outputs": [],
   "source": [
    "temps = np.array([\n",
    "    [30, 32, 33, 31, 29, 28, 30],  # City A\n",
    "    [25, 27, 26, 24, 23, 22, 24],  # City B\n",
    "    [20, 19, 21, 22, 23, 24, 26],  # City C\n",
    "    [35, 34, 36, 37, 38, 36, 35],  # City D\n",
    "    [15, 16, 17, 18, 17, 16, 15]   # City E\n",
    "])\n",
    "\n",
    "# 1. Get the temperature data for City C.\n",
    "print(temps[2],\"\\n\")\n",
    "\n",
    "# 2. Get the temperatures for all cities on Day 3 (3rd column).\n",
    "print(temps[:,2],\"\\n\")\n",
    "\n",
    "# 3. Get the last 3 days’ data for all cities.\n",
    "print(temps[:,4:],\"\\n\")\n",
    "\n",
    "# 4. Get the temperatures for City A and City D only, for Day 2 and Day 5.\n",
    "print(temps[0:4:3,1:5:3],\"\\n\")\n",
    "\n",
    "# 5. Get all temperatures greater than 30°C.\n",
    "j = 1     # City counter\n",
    "for city in temps:\n",
    "    i = 1    # Day counter (start from 1)\n",
    "    for temp in city:\n",
    "        if temp > 30:\n",
    "            print(f\"City: {j}, {temp}, Day {i}\\n\")\n",
    "        i += 1\n",
    "    j += 1\n",
    "\n",
    "# 6. Replace all temperatures below 20°C with 0.\n",
    "for city_idx, city in enumerate(temps):\n",
    "    for day_idx, temp in enumerate(city):\n",
    "        if temp < 20:\n",
    "            temps[city_idx][day_idx] = 0  # update in the original list\n",
    "\n",
    "print(temps,\"\\n\")\n",
    "\n",
    "# 7. Get the average temperature for each city.\n",
    "for city_idx, city in enumerate(temps,start=1):\n",
    "    print(f\"city {city_idx} --> {city.mean()}\")"
   ]
  },
  {
   "cell_type": "markdown",
   "id": "22fa547f",
   "metadata": {},
   "source": [
    "2. You're given a NumPy array of average monthly temperatures (in °C) for 3 cities:"
   ]
  },
  {
   "cell_type": "markdown",
   "id": "37fcb01e",
   "metadata": {},
   "source": [
    "--> Task \n",
    "1. Create a view of the temps array and increase all temperatures in City B by 2°C using the view. Print both the original and the view arrays to show the effect.\n",
    "\n",
    "2. Create a copy of the temps array and decrease all temperatures in City C by 5°C in the copy. Show that the original array remains unchanged."
   ]
  },
  {
   "cell_type": "code",
   "execution_count": null,
   "id": "4022b570",
   "metadata": {},
   "outputs": [],
   "source": [
    "temps = np.array([\n",
    "    [30, 32, 33, 35, 31, 30],   # City A\n",
    "    [22, 24, 23, 25, 26, 27],   # City B\n",
    "    [18, 19, 20, 21, 22, 20]    # City C\n",
    "])\n",
    "\n",
    "temps_view = temps.view()\n",
    "temps_view[1] += 2\n",
    "\n",
    "print(temps_view,\"\\n\")\n",
    "\n",
    "temps_cp = temps.copy()\n",
    "temps_cp[2] -= 5\n",
    "print(temps_cp)"
   ]
  },
  {
   "cell_type": "markdown",
   "id": "f57b2efe",
   "metadata": {},
   "source": [
    "# High School Reunion Problem"
   ]
  },
  {
   "cell_type": "markdown",
   "id": "3297bb2b",
   "metadata": {},
   "source": [
    "--> With your high school reunion fast approaching, you decide to get in shape and lose some weight . You record your weight every day for five weeks starting on a Monday."
   ]
  },
  {
   "cell_type": "markdown",
   "id": "30e4a9d7",
   "metadata": {},
   "source": [
    "? Given these daily weights, build an array with your average weight per weekend."
   ]
  },
  {
   "cell_type": "code",
   "execution_count": null,
   "id": "74589be8",
   "metadata": {},
   "outputs": [],
   "source": [
    "import numpy as np\n",
    "dailywts = 185 - np.arange(5*7)/5\n",
    "print(dailywts)\n",
    "print()\n",
    "week_arr = dailywts.reshape(5,7)\n",
    "weekend_avg = []\n",
    "for week in week_arr:\n",
    "    avg = sum(week[5:]) / len(week[5:])\n",
    "    weekend_avg.append(avg)\n",
    "\n",
    "print(f\"Average weekend weight --> {np.array(weekend_avg)}\")\n",
    "    "
   ]
  },
  {
   "cell_type": "markdown",
   "id": "99d6e0f7",
   "metadata": {},
   "source": [
    "# Sum Problem"
   ]
  },
  {
   "cell_type": "markdown",
   "id": "7154963b",
   "metadata": {},
   "source": [
    "--> Make the following 4x7 array called sum that starts with 1 and steps by 2. However, note that the first element in each row is always 4 more than the last element in the previous row."
   ]
  },
  {
   "cell_type": "code",
   "execution_count": null,
   "id": "cb8c3088",
   "metadata": {},
   "outputs": [],
   "source": [
    "arr = [1]\n",
    "for i in range (1,28):\n",
    "    if i % 7 == 0:\n",
    "        arr.append(arr[-1]+4)\n",
    "    \n",
    "    elif i % 7 != 0:\n",
    "        arr.append(arr[-1]+2)\n",
    "\n",
    "print(np.array(arr).reshape(4,7))        "
   ]
  },
  {
   "cell_type": "markdown",
   "id": "0c30b069",
   "metadata": {},
   "source": [
    "# Gold Miner Problem"
   ]
  },
  {
   "cell_type": "markdown",
   "id": "334dec2d",
   "metadata": {},
   "source": [
    "--> After binge watching the discovery channel, you ditch your job as a trial lawyer to become a gold miner  . You decide to prospect five locations underneath a 7x7 grid of land. How much gold do you uncover at each location?"
   ]
  },
  {
   "cell_type": "markdown",
   "id": "5d65105a",
   "metadata": {},
   "source": [
    "> gold states how much gold is under each location in the 7x7 grid of land."
   ]
  },
  {
   "cell_type": "markdown",
   "id": "57d279f6",
   "metadata": {},
   "source": [
    "> locs states the coordinates of the five locations where you dig."
   ]
  },
  {
   "cell_type": "code",
   "execution_count": null,
   "id": "f0831edf",
   "metadata": {},
   "outputs": [
    {
     "name": "stdout",
     "output_type": "stream",
     "text": [
      "[0 4 7 8 8]\n"
     ]
    }
   ],
   "source": [
    "np.random.seed(1)\n",
    "\n",
    "gold = np.random.randint(0,10,size=(7,7))\n",
    "\n",
    "locs = np.array([\n",
    "    [0,4],\n",
    "    [2,2],\n",
    "    [2,3],\n",
    "    [5,1],\n",
    "    [6,3]\n",
    "])\n",
    "uncover = []\n",
    "ls_locs = locs.tolist()\n",
    "for loc in ls_locs:\n",
    "    x, y = loc\n",
    "    uncover.append(gold[x,y])\n",
    "print(np.array(uncover))\n",
    "\n"
   ]
  },
  {
   "cell_type": "markdown",
   "id": "97bcd59d",
   "metadata": {},
   "source": []
  }
 ],
 "metadata": {
  "kernelspec": {
   "display_name": "Python 3",
   "language": "python",
   "name": "python3"
  },
  "language_info": {
   "codemirror_mode": {
    "name": "ipython",
    "version": 3
   },
   "file_extension": ".py",
   "mimetype": "text/x-python",
   "name": "python",
   "nbconvert_exporter": "python",
   "pygments_lexer": "ipython3",
   "version": "3.11.9"
  }
 },
 "nbformat": 4,
 "nbformat_minor": 5
}
