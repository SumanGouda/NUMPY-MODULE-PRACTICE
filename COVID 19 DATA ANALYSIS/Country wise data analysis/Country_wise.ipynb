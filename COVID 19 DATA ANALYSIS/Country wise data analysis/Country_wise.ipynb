{
 "cells": [
  {
   "cell_type": "code",
   "execution_count": 13,
   "id": "742fed7a",
   "metadata": {},
   "outputs": [],
   "source": [
    "import numpy as np\n",
    "import pandas as pd\n",
    "df = pd.read_csv(r\"D:\\PYTON PROGRAMMING\\PYTHON FILES\\NUMPY\\COVID 19 DATA ANALYSIS\\Country wise data analysis\\country_wise_latest.csv\")"
   ]
  },
  {
   "cell_type": "code",
   "execution_count": 2,
   "id": "cefc1d54",
   "metadata": {},
   "outputs": [
    {
     "data": {
      "text/html": [
       "<div>\n",
       "<style scoped>\n",
       "    .dataframe tbody tr th:only-of-type {\n",
       "        vertical-align: middle;\n",
       "    }\n",
       "\n",
       "    .dataframe tbody tr th {\n",
       "        vertical-align: top;\n",
       "    }\n",
       "\n",
       "    .dataframe thead th {\n",
       "        text-align: right;\n",
       "    }\n",
       "</style>\n",
       "<table border=\"1\" class=\"dataframe\">\n",
       "  <thead>\n",
       "    <tr style=\"text-align: right;\">\n",
       "      <th></th>\n",
       "      <th>Country/Region</th>\n",
       "      <th>Confirmed</th>\n",
       "      <th>Deaths</th>\n",
       "      <th>Recovered</th>\n",
       "      <th>Active</th>\n",
       "      <th>New cases</th>\n",
       "      <th>New deaths</th>\n",
       "      <th>New recovered</th>\n",
       "      <th>Deaths / 100 Cases</th>\n",
       "      <th>Recovered / 100 Cases</th>\n",
       "      <th>Deaths / 100 Recovered</th>\n",
       "      <th>Confirmed last week</th>\n",
       "      <th>1 week change</th>\n",
       "      <th>1 week % increase</th>\n",
       "      <th>WHO Region</th>\n",
       "    </tr>\n",
       "  </thead>\n",
       "  <tbody>\n",
       "    <tr>\n",
       "      <th>0</th>\n",
       "      <td>Afghanistan</td>\n",
       "      <td>36263</td>\n",
       "      <td>1269</td>\n",
       "      <td>25198</td>\n",
       "      <td>9796</td>\n",
       "      <td>106</td>\n",
       "      <td>10</td>\n",
       "      <td>18</td>\n",
       "      <td>3.50</td>\n",
       "      <td>69.49</td>\n",
       "      <td>5.04</td>\n",
       "      <td>35526</td>\n",
       "      <td>737</td>\n",
       "      <td>2.07</td>\n",
       "      <td>Eastern Mediterranean</td>\n",
       "    </tr>\n",
       "    <tr>\n",
       "      <th>1</th>\n",
       "      <td>Albania</td>\n",
       "      <td>4880</td>\n",
       "      <td>144</td>\n",
       "      <td>2745</td>\n",
       "      <td>1991</td>\n",
       "      <td>117</td>\n",
       "      <td>6</td>\n",
       "      <td>63</td>\n",
       "      <td>2.95</td>\n",
       "      <td>56.25</td>\n",
       "      <td>5.25</td>\n",
       "      <td>4171</td>\n",
       "      <td>709</td>\n",
       "      <td>17.00</td>\n",
       "      <td>Europe</td>\n",
       "    </tr>\n",
       "    <tr>\n",
       "      <th>2</th>\n",
       "      <td>Algeria</td>\n",
       "      <td>27973</td>\n",
       "      <td>1163</td>\n",
       "      <td>18837</td>\n",
       "      <td>7973</td>\n",
       "      <td>616</td>\n",
       "      <td>8</td>\n",
       "      <td>749</td>\n",
       "      <td>4.16</td>\n",
       "      <td>67.34</td>\n",
       "      <td>6.17</td>\n",
       "      <td>23691</td>\n",
       "      <td>4282</td>\n",
       "      <td>18.07</td>\n",
       "      <td>Africa</td>\n",
       "    </tr>\n",
       "    <tr>\n",
       "      <th>3</th>\n",
       "      <td>Andorra</td>\n",
       "      <td>907</td>\n",
       "      <td>52</td>\n",
       "      <td>803</td>\n",
       "      <td>52</td>\n",
       "      <td>10</td>\n",
       "      <td>0</td>\n",
       "      <td>0</td>\n",
       "      <td>5.73</td>\n",
       "      <td>88.53</td>\n",
       "      <td>6.48</td>\n",
       "      <td>884</td>\n",
       "      <td>23</td>\n",
       "      <td>2.60</td>\n",
       "      <td>Europe</td>\n",
       "    </tr>\n",
       "    <tr>\n",
       "      <th>4</th>\n",
       "      <td>Angola</td>\n",
       "      <td>950</td>\n",
       "      <td>41</td>\n",
       "      <td>242</td>\n",
       "      <td>667</td>\n",
       "      <td>18</td>\n",
       "      <td>1</td>\n",
       "      <td>0</td>\n",
       "      <td>4.32</td>\n",
       "      <td>25.47</td>\n",
       "      <td>16.94</td>\n",
       "      <td>749</td>\n",
       "      <td>201</td>\n",
       "      <td>26.84</td>\n",
       "      <td>Africa</td>\n",
       "    </tr>\n",
       "  </tbody>\n",
       "</table>\n",
       "</div>"
      ],
      "text/plain": [
       "  Country/Region  Confirmed  Deaths  Recovered  Active  New cases  New deaths  \\\n",
       "0    Afghanistan      36263    1269      25198    9796        106          10   \n",
       "1        Albania       4880     144       2745    1991        117           6   \n",
       "2        Algeria      27973    1163      18837    7973        616           8   \n",
       "3        Andorra        907      52        803      52         10           0   \n",
       "4         Angola        950      41        242     667         18           1   \n",
       "\n",
       "   New recovered  Deaths / 100 Cases  Recovered / 100 Cases  \\\n",
       "0             18                3.50                  69.49   \n",
       "1             63                2.95                  56.25   \n",
       "2            749                4.16                  67.34   \n",
       "3              0                5.73                  88.53   \n",
       "4              0                4.32                  25.47   \n",
       "\n",
       "   Deaths / 100 Recovered  Confirmed last week  1 week change  \\\n",
       "0                    5.04                35526            737   \n",
       "1                    5.25                 4171            709   \n",
       "2                    6.17                23691           4282   \n",
       "3                    6.48                  884             23   \n",
       "4                   16.94                  749            201   \n",
       "\n",
       "   1 week % increase             WHO Region  \n",
       "0               2.07  Eastern Mediterranean  \n",
       "1              17.00                 Europe  \n",
       "2              18.07                 Africa  \n",
       "3               2.60                 Europe  \n",
       "4              26.84                 Africa  "
      ]
     },
     "execution_count": 2,
     "metadata": {},
     "output_type": "execute_result"
    }
   ],
   "source": [
    "df.head()"
   ]
  },
  {
   "cell_type": "markdown",
   "id": "8b374a19",
   "metadata": {},
   "source": [
    "## 🔢 BASIC STATS"
   ]
  },
  {
   "cell_type": "markdown",
   "id": "ec27e210",
   "metadata": {},
   "source": [
    "1. What is the total number of confirmed cases worldwide?"
   ]
  },
  {
   "cell_type": "code",
   "execution_count": 4,
   "id": "3c99bc59",
   "metadata": {},
   "outputs": [
    {
     "name": "stdout",
     "output_type": "stream",
     "text": [
      " The total worldwide confirmed cases were : 16480485\n"
     ]
    }
   ],
   "source": [
    "total_case = df['Confirmed'].sum()\n",
    "print(f\" The total worldwide confirmed cases were : {total_case}\")"
   ]
  },
  {
   "cell_type": "markdown",
   "id": "8be78181",
   "metadata": {},
   "source": [
    "2. What is the total number of deaths globally?"
   ]
  },
  {
   "cell_type": "code",
   "execution_count": 7,
   "id": "10e66d7e",
   "metadata": {},
   "outputs": [
    {
     "name": "stdout",
     "output_type": "stream",
     "text": [
      "The total numbers of deaths around the world is : 654036\n"
     ]
    }
   ],
   "source": [
    "total_deaths = df['Deaths'].sum()\n",
    "print(f\"The total numbers of deaths around the world is : {total_deaths}\")"
   ]
  },
  {
   "cell_type": "markdown",
   "id": "dee28848",
   "metadata": {},
   "source": [
    "3. What is the average number of new cases per country?"
   ]
  },
  {
   "cell_type": "code",
   "execution_count": null,
   "id": "01672638",
   "metadata": {},
   "outputs": [],
   "source": [
    "df.groupby('Country/Region')['New cases'].mean()"
   ]
  },
  {
   "cell_type": "markdown",
   "id": "412d95bf",
   "metadata": {},
   "source": [
    "4. What is the median number of recovered cases?"
   ]
  },
  {
   "cell_type": "code",
   "execution_count": 12,
   "id": "a96dd4a8",
   "metadata": {},
   "outputs": [
    {
     "name": "stdout",
     "output_type": "stream",
     "text": [
      "The median number of recovered cases is : 50631.48\n"
     ]
    }
   ],
   "source": [
    "recoverd_cases_avg = df['Recovered'].mean()\n",
    "print(f\"The median number of recovered cases is : {recoverd_cases_avg:.2f}\")"
   ]
  },
  {
   "cell_type": "markdown",
   "id": "46d63066",
   "metadata": {},
   "source": [
    "5. Which country has the highest number of active cases?"
   ]
  },
  {
   "cell_type": "code",
   "execution_count": 21,
   "id": "a625fe2e",
   "metadata": {},
   "outputs": [
    {
     "name": "stdout",
     "output_type": "stream",
     "text": [
      "Country with maximum active cases was : US\n"
     ]
    }
   ],
   "source": [
    "country_max_active_case = df.groupby('Country/Region')['Active'].sum().idxmax()\n",
    "print(f\"Country with maximum active cases was : {country_max_active_case}\")"
   ]
  },
  {
   "cell_type": "markdown",
   "id": "4b72cfb1",
   "metadata": {},
   "source": [
    "6. How many countries have more than 10,000 confirmed cases?"
   ]
  },
  {
   "cell_type": "code",
   "execution_count": 19,
   "id": "e1821416",
   "metadata": {},
   "outputs": [
    {
     "name": "stdout",
     "output_type": "stream",
     "text": [
      "Countries with active cases above 10k : ['Afghanistan', 'Algeria', 'Argentina', 'Armenia', 'Australia', 'Austria', 'Azerbaijan', 'Bahrain', 'Bangladesh', 'Belarus', 'Belgium', 'Bolivia', 'Bosnia and Herzegovina', 'Brazil', 'Bulgaria', 'Cameroon', 'Canada', 'Chile', 'China', 'Colombia', 'Costa Rica', \"Cote d'Ivoire\", 'Czechia', 'Denmark', 'Dominican Republic', 'Ecuador', 'Egypt', 'El Salvador', 'Ethiopia', 'France', 'Germany', 'Ghana', 'Guatemala', 'Honduras', 'India', 'Indonesia', 'Iran', 'Iraq', 'Ireland', 'Israel', 'Italy', 'Japan', 'Kazakhstan', 'Kenya', 'Kuwait', 'Kyrgyzstan', 'Mexico', 'Moldova', 'Morocco', 'Nepal', 'Netherlands', 'Nigeria', 'North Macedonia', 'Oman', 'Pakistan', 'Panama', 'Peru', 'Philippines', 'Poland', 'Portugal', 'Qatar', 'Romania', 'Russia', 'Saudi Arabia', 'Serbia', 'Singapore', 'South Africa', 'South Korea', 'Spain', 'Sudan', 'Sweden', 'Switzerland', 'Turkey', 'US', 'Ukraine', 'United Arab Emirates', 'United Kingdom', 'Uzbekistan', 'Venezuela', 'West Bank and Gaza']\n"
     ]
    }
   ],
   "source": [
    "countries_above_10k_cases = df.groupby('Country/Region')['Confirmed'].sum().loc[lambda x: x > 10000].index.tolist()\n",
    "print(f\"Countries with active cases above 10k : {countries_above_10k_cases}\")"
   ]
  },
  {
   "cell_type": "markdown",
   "id": "42809c7e",
   "metadata": {},
   "source": [
    "7. What is the country with the lowest death count (excluding 0)?"
   ]
  },
  {
   "cell_type": "code",
   "execution_count": 35,
   "id": "6cf80d3c",
   "metadata": {},
   "outputs": [
    {
     "name": "stdout",
     "output_type": "stream",
     "text": [
      "Country with lowest deadth is : Bhutan\n"
     ]
    }
   ],
   "source": [
    "lowest_death_country = df.groupby('Country/Region')['Deaths'].sum().idxmin()\n",
    "print(f\"Country with lowest deadth is : {lowest_death_country}\")"
   ]
  },
  {
   "cell_type": "markdown",
   "id": "61c248bd",
   "metadata": {},
   "source": [
    "8. Which country has the highest recovery rate (Recovered / 100 Cases)?"
   ]
  },
  {
   "cell_type": "code",
   "execution_count": 42,
   "id": "fbc523d3",
   "metadata": {},
   "outputs": [
    {
     "name": "stdout",
     "output_type": "stream",
     "text": [
      "Country with the highest recovery rate: Dominica (100.00%)\n"
     ]
    }
   ],
   "source": [
    "df['Recovery_Rate'] = (df['Recovered'] / df['Confirmed']) * 100\n",
    "\n",
    "# Find the country with the highest recovery rate\n",
    "max_recovery_country = df.loc[df['Recovery_Rate'].idxmax(), 'Country/Region']\n",
    "max_recovery_rate = df['Recovery_Rate'].max()\n",
    "\n",
    "print(f\"Country with the highest recovery rate: {max_recovery_country} ({max_recovery_rate:.2f}%)\")\n",
    "df.drop('Recovery_Rate',axis=1,inplace=True)"
   ]
  },
  {
   "cell_type": "markdown",
   "id": "718e942c",
   "metadata": {},
   "source": [
    "9. Which country has the highest death rate (Deaths / 100 Cases)?"
   ]
  },
  {
   "cell_type": "code",
   "execution_count": 50,
   "id": "e69a6ddc",
   "metadata": {},
   "outputs": [
    {
     "name": "stdout",
     "output_type": "stream",
     "text": [
      "The country with maximum death rate is Yemen with a percentage death of 28.56%\n"
     ]
    }
   ],
   "source": [
    "df['death_rate'] = (df['Deaths'] / df['Confirmed']) * 100\n",
    "max_death_country = df.loc[df['death_rate'].idxmax(), 'Country/Region']\n",
    "max_death_rate = df['death_rate'].max().round(2)\n",
    "print(f\"The country with maximum death rate is {max_death_country} with a percentage death of {max_death_rate}%\")\n"
   ]
  },
  {
   "cell_type": "markdown",
   "id": "8cbdd6cc",
   "metadata": {},
   "source": [
    "10. What is the standard deviation of active cases?"
   ]
  },
  {
   "cell_type": "code",
   "execution_count": null,
   "id": "8c442e61",
   "metadata": {},
   "outputs": [
    {
     "name": "stdout",
     "output_type": "stream",
     "text": [
      "The Standard deviation of active cases data is : 212755.02\n"
     ]
    }
   ],
   "source": [
    "active_case_arr = df['Active'].to_numpy()\n",
    "mean_arr = active_case_arr.mean().round(2)\n",
    "variance = (((active_case_arr - mean_arr) ** 2).sum()) / len(active_case_arr)\n",
    "standard_deviation = np.sqrt(variance).round(2)\n",
    "print(f\"The Standard deviation of active cases data is : {standard_deviation}\")"
   ]
  },
  {
   "cell_type": "markdown",
   "id": "d99927fb",
   "metadata": {},
   "source": [
    "## 🔍 FILTERING & CONDITION LOGIC"
   ]
  },
  {
   "cell_type": "markdown",
   "id": "4502ae6e",
   "metadata": {},
   "source": [
    "11. List countries where recovery rate is above 80%."
   ]
  },
  {
   "cell_type": "code",
   "execution_count": null,
   "id": "fcf8cd29",
   "metadata": {},
   "outputs": [],
   "source": [
    "df['Recovery Rate'] = (( df['Recovered'] / df['Confirmed']) * 100).round(2)\n",
    "countries_above_80 = df[(df['Recovery Rate'] > 80)] \n",
    "countries_above_80\n"
   ]
  },
  {
   "cell_type": "markdown",
   "id": "a9bc6f31",
   "metadata": {},
   "source": [
    "12. List countries where new deaths are greater than 100."
   ]
  },
  {
   "cell_type": "code",
   "execution_count": null,
   "id": "6bfc38b9",
   "metadata": {},
   "outputs": [],
   "source": [
    "new_deaths_100 = df[(df['New deaths'] > 100)]\n",
    "new_deaths_100"
   ]
  },
  {
   "cell_type": "markdown",
   "id": "07c30a42",
   "metadata": {},
   "source": [
    "13. Filter countries from the WHO Region \"Europe\"."
   ]
  },
  {
   "cell_type": "code",
   "execution_count": null,
   "id": "056b5fb9",
   "metadata": {},
   "outputs": [],
   "source": [
    "europe_region = df[(df['WHO Region'] == 'Europe')]\n",
    "europe_region"
   ]
  },
  {
   "cell_type": "markdown",
   "id": "74ec3c30",
   "metadata": {},
   "source": [
    "14. Find countries with more than 500 new cases and less than 150 deaths."
   ]
  },
  {
   "cell_type": "code",
   "execution_count": null,
   "id": "e8692e9e",
   "metadata": {},
   "outputs": [],
   "source": [
    "countries = df[(df['New cases'] > 500) & (df['Deaths'] < 150)]\n",
    "countries"
   ]
  },
  {
   "cell_type": "markdown",
   "id": "a6bbb7bd",
   "metadata": {},
   "source": [
    "15. List countries where Confirmed last week was greater than Confirmed."
   ]
  },
  {
   "cell_type": "code",
   "execution_count": null,
   "id": "8e4adab3",
   "metadata": {},
   "outputs": [],
   "source": [
    "conuntries_more_last_week_case = df[(df['Confirmed last week'] > df['Confirmed'])]\n",
    "conuntries_more_last_week_case"
   ]
  },
  {
   "cell_type": "markdown",
   "id": "0f2a537f",
   "metadata": {},
   "source": [
    "## 📊 GROUPBY & AGGREGATIONS"
   ]
  },
  {
   "cell_type": "markdown",
   "id": "d9603c15",
   "metadata": {},
   "source": [
    "16. How many countries are in each WHO Region?"
   ]
  },
  {
   "cell_type": "code",
   "execution_count": 22,
   "id": "08d1a18d",
   "metadata": {},
   "outputs": [
    {
     "data": {
      "text/plain": [
       "WHO Region\n",
       "Africa                   48\n",
       "Americas                 35\n",
       "Eastern Mediterranean    22\n",
       "Europe                   56\n",
       "South-East Asia          10\n",
       "Western Pacific          16\n",
       "Name: Country/Region, dtype: int64"
      ]
     },
     "execution_count": 22,
     "metadata": {},
     "output_type": "execute_result"
    }
   ],
   "source": [
    "countries_in_each_region = df.groupby('WHO Region')['Country/Region'].size()\n",
    "countries_in_each_region"
   ]
  },
  {
   "cell_type": "markdown",
   "id": "211ae4c0",
   "metadata": {},
   "source": [
    "17. What is the average death rate per WHO Region?"
   ]
  },
  {
   "cell_type": "code",
   "execution_count": null,
   "id": "5dfe2297",
   "metadata": {},
   "outputs": [],
   "source": [
    "df['death_rate'] = ((df['Deaths'] / df['Confirmed']) * 100).round(2)\n",
    "countries_death_rate_in_each_region = df.groupby('WHO Region')['death_rate'].mean().round(2)\n",
    "countries_death_rate_in_each_region\n",
    "df.drop('death_rate' , axis=1)"
   ]
  },
  {
   "cell_type": "markdown",
   "id": "a1bf76f9",
   "metadata": {},
   "source": [
    "18. What is the total number of new cases per WHO Region?"
   ]
  },
  {
   "cell_type": "code",
   "execution_count": 33,
   "id": "c8120c0d",
   "metadata": {},
   "outputs": [
    {
     "data": {
      "text/plain": [
       "WHO Region\n",
       "Africa                    12176\n",
       "Americas                 129531\n",
       "Eastern Mediterranean     12410\n",
       "Europe                    22294\n",
       "South-East Asia           48993\n",
       "Western Pacific            3289\n",
       "Name: New cases, dtype: int64"
      ]
     },
     "execution_count": 33,
     "metadata": {},
     "output_type": "execute_result"
    }
   ],
   "source": [
    "new_cases_each_region = df.groupby('WHO Region')['New cases'].sum()\n",
    "new_cases_each_region"
   ]
  },
  {
   "cell_type": "markdown",
   "id": "39b74d87",
   "metadata": {},
   "source": [
    "19. Which WHO Region has the most active cases overall?"
   ]
  },
  {
   "cell_type": "code",
   "execution_count": 34,
   "id": "456e1d1b",
   "metadata": {},
   "outputs": [
    {
     "data": {
      "text/plain": [
       "WHO Region\n",
       "Africa                    270339\n",
       "Americas                 4027938\n",
       "Eastern Mediterranean     251005\n",
       "Europe                   1094656\n",
       "South-East Asia           637015\n",
       "Western Pacific            77409\n",
       "Name: Active, dtype: int64"
      ]
     },
     "execution_count": 34,
     "metadata": {},
     "output_type": "execute_result"
    }
   ],
   "source": [
    "region_case_most = df.groupby('WHO Region')['Active'].sum()\n",
    "region_case_most"
   ]
  },
  {
   "cell_type": "markdown",
   "id": "cafb068b",
   "metadata": {},
   "source": [
    "20. Calculate the mean recovery rate grouped by WHO Region."
   ]
  },
  {
   "cell_type": "code",
   "execution_count": 36,
   "id": "ce4bf55e",
   "metadata": {},
   "outputs": [
    {
     "data": {
      "text/plain": [
       "WHO Region\n",
       "Africa                   57.0\n",
       "Americas                 62.0\n",
       "Eastern Mediterranean    67.0\n",
       "Europe                   69.0\n",
       "South-East Asia          67.0\n",
       "Western Pacific          77.0\n",
       "Name: recovery_rate, dtype: float64"
      ]
     },
     "execution_count": 36,
     "metadata": {},
     "output_type": "execute_result"
    }
   ],
   "source": [
    "df['recovery_rate'] = df.apply(\n",
    "    lambda row: (row['Recovered'] / row['Confirmed']) * 100 if row['Confirmed'] > 0 else 0,\n",
    "    axis=1\n",
    ")\n",
    "mean_recoevry_each_region = df.groupby('WHO Region')['recovery_rate'].mean().round()\n",
    "mean_recoevry_each_region"
   ]
  },
  {
   "cell_type": "markdown",
   "id": "203a4c6d",
   "metadata": {},
   "source": [
    "## 📈 PERCENTAGE / RATIO ANALYSIS"
   ]
  },
  {
   "cell_type": "markdown",
   "id": "4c3fe8e0",
   "metadata": {},
   "source": [
    "21. What percent of confirmed cases globally resulted in death?"
   ]
  },
  {
   "cell_type": "code",
   "execution_count": null,
   "id": "74c3ec1e",
   "metadata": {},
   "outputs": [
    {
     "name": "stdout",
     "output_type": "stream",
     "text": [
      "Total percentage of death cases around the world is 3.97%\n"
     ]
    }
   ],
   "source": [
    "total_case = df['Confirmed'].sum()\n",
    "total_death = df['Deaths'].sum()\n",
    "percentage_death = ((total_death / total_case)*100).round(2)\n",
    "print(f\"Total percentage of death cases around the world is {percentage_death} %\")"
   ]
  },
  {
   "cell_type": "markdown",
   "id": "5a0727f5",
   "metadata": {},
   "source": [
    "22. What percent of confirmed cases globally have recovered?"
   ]
  },
  {
   "cell_type": "code",
   "execution_count": 43,
   "id": "0559a6b9",
   "metadata": {},
   "outputs": [
    {
     "name": "stdout",
     "output_type": "stream",
     "text": [
      "The percentage recovered around the world is : 57.45 %\n"
     ]
    }
   ],
   "source": [
    "total_case = df['Confirmed'].sum()\n",
    "recovered_case = df['Recovered'].sum()\n",
    "percentage_recover = ((recovered_case / total_case)*100).round(2)\n",
    "print(f\"The percentage recovered around the world is : {percentage_recover} %\")"
   ]
  },
  {
   "cell_type": "markdown",
   "id": "63c17ac8",
   "metadata": {},
   "source": [
    "23. Which country has the highest deaths per recovered ratio?"
   ]
  },
  {
   "cell_type": "code",
   "execution_count": 50,
   "id": "868429d3",
   "metadata": {},
   "outputs": [
    {
     "name": "stdout",
     "output_type": "stream",
     "text": [
      "Country with highest finite ratio: Netherlands (3259.26)\n"
     ]
    }
   ],
   "source": [
    "ratio_data = df[['Country/Region', 'Deaths / 100 Recovered']].copy()\n",
    "\n",
    "\n",
    "finite_ratios = ratio_data.replace([np.inf, -np.inf], np.nan).dropna()\n",
    "\n",
    "if not finite_ratios.empty:\n",
    "    max_row = finite_ratios.loc[finite_ratios['Deaths / 100 Recovered'].idxmax()]\n",
    "    country = max_row['Country/Region']\n",
    "    ratio = max_row['Deaths / 100 Recovered']\n",
    "    print(f\"Country with highest finite ratio: {country} ({ratio:.2f})\")\n",
    "else:\n",
    "    print(\"All ratios are infinite - check data quality\")\n"
   ]
  },
  {
   "cell_type": "markdown",
   "id": "5b715bf6",
   "metadata": {},
   "source": [
    "24. Which WHO Region has the lowest Deaths / 100 Cases?"
   ]
  },
  {
   "cell_type": "code",
   "execution_count": 54,
   "id": "ae75dbe7",
   "metadata": {},
   "outputs": [
    {
     "data": {
      "text/plain": [
       "'South-East Asia'"
      ]
     },
     "execution_count": 54,
     "metadata": {},
     "output_type": "execute_result"
    }
   ],
   "source": [
    "df.groupby('WHO Region')['Deaths / 100 Cases'].sum().idxmin()"
   ]
  },
  {
   "cell_type": "markdown",
   "id": "64678143",
   "metadata": {},
   "source": [
    "25. Find countries with more than 5% weekly increase."
   ]
  },
  {
   "cell_type": "code",
   "execution_count": 64,
   "id": "670be53f",
   "metadata": {},
   "outputs": [
    {
     "data": {
      "text/plain": [
       "1                  Albania\n",
       "2                  Algeria\n",
       "4                   Angola\n",
       "5      Antigua and Barbuda\n",
       "6                Argentina\n",
       "              ...         \n",
       "180              Venezuela\n",
       "181                Vietnam\n",
       "182     West Bank and Gaza\n",
       "185                 Zambia\n",
       "186               Zimbabwe\n",
       "Name: Country/Region, Length: 112, dtype: object"
      ]
     },
     "execution_count": 64,
     "metadata": {},
     "output_type": "execute_result"
    }
   ],
   "source": [
    "df[(df['1 week % increase'] > 5)]['Country/Region']"
   ]
  },
  {
   "cell_type": "markdown",
   "id": "1812f4f8",
   "metadata": {},
   "source": [
    "## 🧮 NUMPY OPERATIONS"
   ]
  },
  {
   "cell_type": "code",
   "execution_count": 65,
   "id": "d423a15d",
   "metadata": {},
   "outputs": [
    {
     "data": {
      "text/html": [
       "<div>\n",
       "<style scoped>\n",
       "    .dataframe tbody tr th:only-of-type {\n",
       "        vertical-align: middle;\n",
       "    }\n",
       "\n",
       "    .dataframe tbody tr th {\n",
       "        vertical-align: top;\n",
       "    }\n",
       "\n",
       "    .dataframe thead th {\n",
       "        text-align: right;\n",
       "    }\n",
       "</style>\n",
       "<table border=\"1\" class=\"dataframe\">\n",
       "  <thead>\n",
       "    <tr style=\"text-align: right;\">\n",
       "      <th></th>\n",
       "      <th>Country/Region</th>\n",
       "      <th>Confirmed</th>\n",
       "      <th>Deaths</th>\n",
       "      <th>Recovered</th>\n",
       "      <th>Active</th>\n",
       "      <th>New cases</th>\n",
       "      <th>New deaths</th>\n",
       "      <th>New recovered</th>\n",
       "      <th>Deaths / 100 Cases</th>\n",
       "      <th>Recovered / 100 Cases</th>\n",
       "      <th>Deaths / 100 Recovered</th>\n",
       "      <th>Confirmed last week</th>\n",
       "      <th>1 week change</th>\n",
       "      <th>1 week % increase</th>\n",
       "      <th>WHO Region</th>\n",
       "      <th>Recovery Rate</th>\n",
       "      <th>death_rate</th>\n",
       "      <th>recovery_rate</th>\n",
       "    </tr>\n",
       "  </thead>\n",
       "  <tbody>\n",
       "    <tr>\n",
       "      <th>0</th>\n",
       "      <td>Afghanistan</td>\n",
       "      <td>36263</td>\n",
       "      <td>1269</td>\n",
       "      <td>25198</td>\n",
       "      <td>9796</td>\n",
       "      <td>106</td>\n",
       "      <td>10</td>\n",
       "      <td>18</td>\n",
       "      <td>3.50</td>\n",
       "      <td>69.49</td>\n",
       "      <td>5.04</td>\n",
       "      <td>35526</td>\n",
       "      <td>737</td>\n",
       "      <td>2.07</td>\n",
       "      <td>Eastern Mediterranean</td>\n",
       "      <td>69.49</td>\n",
       "      <td>3.968548</td>\n",
       "      <td>69.486805</td>\n",
       "    </tr>\n",
       "    <tr>\n",
       "      <th>1</th>\n",
       "      <td>Albania</td>\n",
       "      <td>4880</td>\n",
       "      <td>144</td>\n",
       "      <td>2745</td>\n",
       "      <td>1991</td>\n",
       "      <td>117</td>\n",
       "      <td>6</td>\n",
       "      <td>63</td>\n",
       "      <td>2.95</td>\n",
       "      <td>56.25</td>\n",
       "      <td>5.25</td>\n",
       "      <td>4171</td>\n",
       "      <td>709</td>\n",
       "      <td>17.00</td>\n",
       "      <td>Europe</td>\n",
       "      <td>56.25</td>\n",
       "      <td>3.968548</td>\n",
       "      <td>56.250000</td>\n",
       "    </tr>\n",
       "    <tr>\n",
       "      <th>2</th>\n",
       "      <td>Algeria</td>\n",
       "      <td>27973</td>\n",
       "      <td>1163</td>\n",
       "      <td>18837</td>\n",
       "      <td>7973</td>\n",
       "      <td>616</td>\n",
       "      <td>8</td>\n",
       "      <td>749</td>\n",
       "      <td>4.16</td>\n",
       "      <td>67.34</td>\n",
       "      <td>6.17</td>\n",
       "      <td>23691</td>\n",
       "      <td>4282</td>\n",
       "      <td>18.07</td>\n",
       "      <td>Africa</td>\n",
       "      <td>67.34</td>\n",
       "      <td>3.968548</td>\n",
       "      <td>67.339935</td>\n",
       "    </tr>\n",
       "    <tr>\n",
       "      <th>3</th>\n",
       "      <td>Andorra</td>\n",
       "      <td>907</td>\n",
       "      <td>52</td>\n",
       "      <td>803</td>\n",
       "      <td>52</td>\n",
       "      <td>10</td>\n",
       "      <td>0</td>\n",
       "      <td>0</td>\n",
       "      <td>5.73</td>\n",
       "      <td>88.53</td>\n",
       "      <td>6.48</td>\n",
       "      <td>884</td>\n",
       "      <td>23</td>\n",
       "      <td>2.60</td>\n",
       "      <td>Europe</td>\n",
       "      <td>88.53</td>\n",
       "      <td>3.968548</td>\n",
       "      <td>88.533627</td>\n",
       "    </tr>\n",
       "    <tr>\n",
       "      <th>4</th>\n",
       "      <td>Angola</td>\n",
       "      <td>950</td>\n",
       "      <td>41</td>\n",
       "      <td>242</td>\n",
       "      <td>667</td>\n",
       "      <td>18</td>\n",
       "      <td>1</td>\n",
       "      <td>0</td>\n",
       "      <td>4.32</td>\n",
       "      <td>25.47</td>\n",
       "      <td>16.94</td>\n",
       "      <td>749</td>\n",
       "      <td>201</td>\n",
       "      <td>26.84</td>\n",
       "      <td>Africa</td>\n",
       "      <td>25.47</td>\n",
       "      <td>3.968548</td>\n",
       "      <td>25.473684</td>\n",
       "    </tr>\n",
       "    <tr>\n",
       "      <th>5</th>\n",
       "      <td>Antigua and Barbuda</td>\n",
       "      <td>86</td>\n",
       "      <td>3</td>\n",
       "      <td>65</td>\n",
       "      <td>18</td>\n",
       "      <td>4</td>\n",
       "      <td>0</td>\n",
       "      <td>5</td>\n",
       "      <td>3.49</td>\n",
       "      <td>75.58</td>\n",
       "      <td>4.62</td>\n",
       "      <td>76</td>\n",
       "      <td>10</td>\n",
       "      <td>13.16</td>\n",
       "      <td>Americas</td>\n",
       "      <td>75.58</td>\n",
       "      <td>3.968548</td>\n",
       "      <td>75.581395</td>\n",
       "    </tr>\n",
       "    <tr>\n",
       "      <th>6</th>\n",
       "      <td>Argentina</td>\n",
       "      <td>167416</td>\n",
       "      <td>3059</td>\n",
       "      <td>72575</td>\n",
       "      <td>91782</td>\n",
       "      <td>4890</td>\n",
       "      <td>120</td>\n",
       "      <td>2057</td>\n",
       "      <td>1.83</td>\n",
       "      <td>43.35</td>\n",
       "      <td>4.21</td>\n",
       "      <td>130774</td>\n",
       "      <td>36642</td>\n",
       "      <td>28.02</td>\n",
       "      <td>Americas</td>\n",
       "      <td>43.35</td>\n",
       "      <td>3.968548</td>\n",
       "      <td>43.350098</td>\n",
       "    </tr>\n",
       "    <tr>\n",
       "      <th>7</th>\n",
       "      <td>Armenia</td>\n",
       "      <td>37390</td>\n",
       "      <td>711</td>\n",
       "      <td>26665</td>\n",
       "      <td>10014</td>\n",
       "      <td>73</td>\n",
       "      <td>6</td>\n",
       "      <td>187</td>\n",
       "      <td>1.90</td>\n",
       "      <td>71.32</td>\n",
       "      <td>2.67</td>\n",
       "      <td>34981</td>\n",
       "      <td>2409</td>\n",
       "      <td>6.89</td>\n",
       "      <td>Europe</td>\n",
       "      <td>71.32</td>\n",
       "      <td>3.968548</td>\n",
       "      <td>71.315860</td>\n",
       "    </tr>\n",
       "    <tr>\n",
       "      <th>8</th>\n",
       "      <td>Australia</td>\n",
       "      <td>15303</td>\n",
       "      <td>167</td>\n",
       "      <td>9311</td>\n",
       "      <td>5825</td>\n",
       "      <td>368</td>\n",
       "      <td>6</td>\n",
       "      <td>137</td>\n",
       "      <td>1.09</td>\n",
       "      <td>60.84</td>\n",
       "      <td>1.79</td>\n",
       "      <td>12428</td>\n",
       "      <td>2875</td>\n",
       "      <td>23.13</td>\n",
       "      <td>Western Pacific</td>\n",
       "      <td>60.84</td>\n",
       "      <td>3.968548</td>\n",
       "      <td>60.844279</td>\n",
       "    </tr>\n",
       "    <tr>\n",
       "      <th>9</th>\n",
       "      <td>Austria</td>\n",
       "      <td>20558</td>\n",
       "      <td>713</td>\n",
       "      <td>18246</td>\n",
       "      <td>1599</td>\n",
       "      <td>86</td>\n",
       "      <td>1</td>\n",
       "      <td>37</td>\n",
       "      <td>3.47</td>\n",
       "      <td>88.75</td>\n",
       "      <td>3.91</td>\n",
       "      <td>19743</td>\n",
       "      <td>815</td>\n",
       "      <td>4.13</td>\n",
       "      <td>Europe</td>\n",
       "      <td>88.75</td>\n",
       "      <td>3.968548</td>\n",
       "      <td>88.753770</td>\n",
       "    </tr>\n",
       "    <tr>\n",
       "      <th>10</th>\n",
       "      <td>Azerbaijan</td>\n",
       "      <td>30446</td>\n",
       "      <td>423</td>\n",
       "      <td>23242</td>\n",
       "      <td>6781</td>\n",
       "      <td>396</td>\n",
       "      <td>6</td>\n",
       "      <td>558</td>\n",
       "      <td>1.39</td>\n",
       "      <td>76.34</td>\n",
       "      <td>1.82</td>\n",
       "      <td>27890</td>\n",
       "      <td>2556</td>\n",
       "      <td>9.16</td>\n",
       "      <td>Europe</td>\n",
       "      <td>76.34</td>\n",
       "      <td>3.968548</td>\n",
       "      <td>76.338435</td>\n",
       "    </tr>\n",
       "    <tr>\n",
       "      <th>11</th>\n",
       "      <td>Bahamas</td>\n",
       "      <td>382</td>\n",
       "      <td>11</td>\n",
       "      <td>91</td>\n",
       "      <td>280</td>\n",
       "      <td>40</td>\n",
       "      <td>0</td>\n",
       "      <td>0</td>\n",
       "      <td>2.88</td>\n",
       "      <td>23.82</td>\n",
       "      <td>12.09</td>\n",
       "      <td>174</td>\n",
       "      <td>208</td>\n",
       "      <td>119.54</td>\n",
       "      <td>Americas</td>\n",
       "      <td>23.82</td>\n",
       "      <td>3.968548</td>\n",
       "      <td>23.821990</td>\n",
       "    </tr>\n",
       "    <tr>\n",
       "      <th>12</th>\n",
       "      <td>Bahrain</td>\n",
       "      <td>39482</td>\n",
       "      <td>141</td>\n",
       "      <td>36110</td>\n",
       "      <td>3231</td>\n",
       "      <td>351</td>\n",
       "      <td>1</td>\n",
       "      <td>421</td>\n",
       "      <td>0.36</td>\n",
       "      <td>91.46</td>\n",
       "      <td>0.39</td>\n",
       "      <td>36936</td>\n",
       "      <td>2546</td>\n",
       "      <td>6.89</td>\n",
       "      <td>Eastern Mediterranean</td>\n",
       "      <td>91.46</td>\n",
       "      <td>3.968548</td>\n",
       "      <td>91.459399</td>\n",
       "    </tr>\n",
       "    <tr>\n",
       "      <th>13</th>\n",
       "      <td>Bangladesh</td>\n",
       "      <td>226225</td>\n",
       "      <td>2965</td>\n",
       "      <td>125683</td>\n",
       "      <td>97577</td>\n",
       "      <td>2772</td>\n",
       "      <td>37</td>\n",
       "      <td>1801</td>\n",
       "      <td>1.31</td>\n",
       "      <td>55.56</td>\n",
       "      <td>2.36</td>\n",
       "      <td>207453</td>\n",
       "      <td>18772</td>\n",
       "      <td>9.05</td>\n",
       "      <td>South-East Asia</td>\n",
       "      <td>55.56</td>\n",
       "      <td>3.968548</td>\n",
       "      <td>55.556636</td>\n",
       "    </tr>\n",
       "    <tr>\n",
       "      <th>14</th>\n",
       "      <td>Barbados</td>\n",
       "      <td>110</td>\n",
       "      <td>7</td>\n",
       "      <td>94</td>\n",
       "      <td>9</td>\n",
       "      <td>0</td>\n",
       "      <td>0</td>\n",
       "      <td>0</td>\n",
       "      <td>6.36</td>\n",
       "      <td>85.45</td>\n",
       "      <td>7.45</td>\n",
       "      <td>106</td>\n",
       "      <td>4</td>\n",
       "      <td>3.77</td>\n",
       "      <td>Americas</td>\n",
       "      <td>85.45</td>\n",
       "      <td>3.968548</td>\n",
       "      <td>85.454545</td>\n",
       "    </tr>\n",
       "    <tr>\n",
       "      <th>15</th>\n",
       "      <td>Belarus</td>\n",
       "      <td>67251</td>\n",
       "      <td>538</td>\n",
       "      <td>60492</td>\n",
       "      <td>6221</td>\n",
       "      <td>119</td>\n",
       "      <td>4</td>\n",
       "      <td>67</td>\n",
       "      <td>0.80</td>\n",
       "      <td>89.95</td>\n",
       "      <td>0.89</td>\n",
       "      <td>66213</td>\n",
       "      <td>1038</td>\n",
       "      <td>1.57</td>\n",
       "      <td>Europe</td>\n",
       "      <td>89.95</td>\n",
       "      <td>3.968548</td>\n",
       "      <td>89.949592</td>\n",
       "    </tr>\n",
       "    <tr>\n",
       "      <th>16</th>\n",
       "      <td>Belgium</td>\n",
       "      <td>66428</td>\n",
       "      <td>9822</td>\n",
       "      <td>17452</td>\n",
       "      <td>39154</td>\n",
       "      <td>402</td>\n",
       "      <td>1</td>\n",
       "      <td>14</td>\n",
       "      <td>14.79</td>\n",
       "      <td>26.27</td>\n",
       "      <td>56.28</td>\n",
       "      <td>64094</td>\n",
       "      <td>2334</td>\n",
       "      <td>3.64</td>\n",
       "      <td>Europe</td>\n",
       "      <td>26.27</td>\n",
       "      <td>3.968548</td>\n",
       "      <td>26.272054</td>\n",
       "    </tr>\n",
       "    <tr>\n",
       "      <th>17</th>\n",
       "      <td>Belize</td>\n",
       "      <td>48</td>\n",
       "      <td>2</td>\n",
       "      <td>26</td>\n",
       "      <td>20</td>\n",
       "      <td>0</td>\n",
       "      <td>0</td>\n",
       "      <td>0</td>\n",
       "      <td>4.17</td>\n",
       "      <td>54.17</td>\n",
       "      <td>7.69</td>\n",
       "      <td>40</td>\n",
       "      <td>8</td>\n",
       "      <td>20.00</td>\n",
       "      <td>Americas</td>\n",
       "      <td>54.17</td>\n",
       "      <td>3.968548</td>\n",
       "      <td>54.166667</td>\n",
       "    </tr>\n",
       "    <tr>\n",
       "      <th>18</th>\n",
       "      <td>Benin</td>\n",
       "      <td>1770</td>\n",
       "      <td>35</td>\n",
       "      <td>1036</td>\n",
       "      <td>699</td>\n",
       "      <td>0</td>\n",
       "      <td>0</td>\n",
       "      <td>0</td>\n",
       "      <td>1.98</td>\n",
       "      <td>58.53</td>\n",
       "      <td>3.38</td>\n",
       "      <td>1602</td>\n",
       "      <td>168</td>\n",
       "      <td>10.49</td>\n",
       "      <td>Africa</td>\n",
       "      <td>58.53</td>\n",
       "      <td>3.968548</td>\n",
       "      <td>58.531073</td>\n",
       "    </tr>\n",
       "    <tr>\n",
       "      <th>19</th>\n",
       "      <td>Bhutan</td>\n",
       "      <td>99</td>\n",
       "      <td>0</td>\n",
       "      <td>86</td>\n",
       "      <td>13</td>\n",
       "      <td>4</td>\n",
       "      <td>0</td>\n",
       "      <td>1</td>\n",
       "      <td>0.00</td>\n",
       "      <td>86.87</td>\n",
       "      <td>0.00</td>\n",
       "      <td>90</td>\n",
       "      <td>9</td>\n",
       "      <td>10.00</td>\n",
       "      <td>South-East Asia</td>\n",
       "      <td>86.87</td>\n",
       "      <td>3.968548</td>\n",
       "      <td>86.868687</td>\n",
       "    </tr>\n",
       "  </tbody>\n",
       "</table>\n",
       "</div>"
      ],
      "text/plain": [
       "         Country/Region  Confirmed  Deaths  Recovered  Active  New cases  \\\n",
       "0           Afghanistan      36263    1269      25198    9796        106   \n",
       "1               Albania       4880     144       2745    1991        117   \n",
       "2               Algeria      27973    1163      18837    7973        616   \n",
       "3               Andorra        907      52        803      52         10   \n",
       "4                Angola        950      41        242     667         18   \n",
       "5   Antigua and Barbuda         86       3         65      18          4   \n",
       "6             Argentina     167416    3059      72575   91782       4890   \n",
       "7               Armenia      37390     711      26665   10014         73   \n",
       "8             Australia      15303     167       9311    5825        368   \n",
       "9               Austria      20558     713      18246    1599         86   \n",
       "10           Azerbaijan      30446     423      23242    6781        396   \n",
       "11              Bahamas        382      11         91     280         40   \n",
       "12              Bahrain      39482     141      36110    3231        351   \n",
       "13           Bangladesh     226225    2965     125683   97577       2772   \n",
       "14             Barbados        110       7         94       9          0   \n",
       "15              Belarus      67251     538      60492    6221        119   \n",
       "16              Belgium      66428    9822      17452   39154        402   \n",
       "17               Belize         48       2         26      20          0   \n",
       "18                Benin       1770      35       1036     699          0   \n",
       "19               Bhutan         99       0         86      13          4   \n",
       "\n",
       "    New deaths  New recovered  Deaths / 100 Cases  Recovered / 100 Cases  \\\n",
       "0           10             18                3.50                  69.49   \n",
       "1            6             63                2.95                  56.25   \n",
       "2            8            749                4.16                  67.34   \n",
       "3            0              0                5.73                  88.53   \n",
       "4            1              0                4.32                  25.47   \n",
       "5            0              5                3.49                  75.58   \n",
       "6          120           2057                1.83                  43.35   \n",
       "7            6            187                1.90                  71.32   \n",
       "8            6            137                1.09                  60.84   \n",
       "9            1             37                3.47                  88.75   \n",
       "10           6            558                1.39                  76.34   \n",
       "11           0              0                2.88                  23.82   \n",
       "12           1            421                0.36                  91.46   \n",
       "13          37           1801                1.31                  55.56   \n",
       "14           0              0                6.36                  85.45   \n",
       "15           4             67                0.80                  89.95   \n",
       "16           1             14               14.79                  26.27   \n",
       "17           0              0                4.17                  54.17   \n",
       "18           0              0                1.98                  58.53   \n",
       "19           0              1                0.00                  86.87   \n",
       "\n",
       "    Deaths / 100 Recovered  Confirmed last week  1 week change  \\\n",
       "0                     5.04                35526            737   \n",
       "1                     5.25                 4171            709   \n",
       "2                     6.17                23691           4282   \n",
       "3                     6.48                  884             23   \n",
       "4                    16.94                  749            201   \n",
       "5                     4.62                   76             10   \n",
       "6                     4.21               130774          36642   \n",
       "7                     2.67                34981           2409   \n",
       "8                     1.79                12428           2875   \n",
       "9                     3.91                19743            815   \n",
       "10                    1.82                27890           2556   \n",
       "11                   12.09                  174            208   \n",
       "12                    0.39                36936           2546   \n",
       "13                    2.36               207453          18772   \n",
       "14                    7.45                  106              4   \n",
       "15                    0.89                66213           1038   \n",
       "16                   56.28                64094           2334   \n",
       "17                    7.69                   40              8   \n",
       "18                    3.38                 1602            168   \n",
       "19                    0.00                   90              9   \n",
       "\n",
       "    1 week % increase             WHO Region  Recovery Rate  death_rate  \\\n",
       "0                2.07  Eastern Mediterranean          69.49    3.968548   \n",
       "1               17.00                 Europe          56.25    3.968548   \n",
       "2               18.07                 Africa          67.34    3.968548   \n",
       "3                2.60                 Europe          88.53    3.968548   \n",
       "4               26.84                 Africa          25.47    3.968548   \n",
       "5               13.16               Americas          75.58    3.968548   \n",
       "6               28.02               Americas          43.35    3.968548   \n",
       "7                6.89                 Europe          71.32    3.968548   \n",
       "8               23.13        Western Pacific          60.84    3.968548   \n",
       "9                4.13                 Europe          88.75    3.968548   \n",
       "10               9.16                 Europe          76.34    3.968548   \n",
       "11             119.54               Americas          23.82    3.968548   \n",
       "12               6.89  Eastern Mediterranean          91.46    3.968548   \n",
       "13               9.05        South-East Asia          55.56    3.968548   \n",
       "14               3.77               Americas          85.45    3.968548   \n",
       "15               1.57                 Europe          89.95    3.968548   \n",
       "16               3.64                 Europe          26.27    3.968548   \n",
       "17              20.00               Americas          54.17    3.968548   \n",
       "18              10.49                 Africa          58.53    3.968548   \n",
       "19              10.00        South-East Asia          86.87    3.968548   \n",
       "\n",
       "    recovery_rate  \n",
       "0       69.486805  \n",
       "1       56.250000  \n",
       "2       67.339935  \n",
       "3       88.533627  \n",
       "4       25.473684  \n",
       "5       75.581395  \n",
       "6       43.350098  \n",
       "7       71.315860  \n",
       "8       60.844279  \n",
       "9       88.753770  \n",
       "10      76.338435  \n",
       "11      23.821990  \n",
       "12      91.459399  \n",
       "13      55.556636  \n",
       "14      85.454545  \n",
       "15      89.949592  \n",
       "16      26.272054  \n",
       "17      54.166667  \n",
       "18      58.531073  \n",
       "19      86.868687  "
      ]
     },
     "execution_count": 65,
     "metadata": {},
     "output_type": "execute_result"
    }
   ],
   "source": [
    "df.head(20)"
   ]
  },
  {
   "cell_type": "code",
   "execution_count": null,
   "id": "9ad05e54",
   "metadata": {},
   "outputs": [
    {
     "data": {
      "text/html": [
       "<div>\n",
       "<style scoped>\n",
       "    .dataframe tbody tr th:only-of-type {\n",
       "        vertical-align: middle;\n",
       "    }\n",
       "\n",
       "    .dataframe tbody tr th {\n",
       "        vertical-align: top;\n",
       "    }\n",
       "\n",
       "    .dataframe thead th {\n",
       "        text-align: right;\n",
       "    }\n",
       "</style>\n",
       "<table border=\"1\" class=\"dataframe\">\n",
       "  <thead>\n",
       "    <tr style=\"text-align: right;\">\n",
       "      <th></th>\n",
       "      <th>Country/Region</th>\n",
       "      <th>Confirmed</th>\n",
       "      <th>Deaths</th>\n",
       "      <th>Recovered</th>\n",
       "      <th>Active</th>\n",
       "      <th>New cases</th>\n",
       "      <th>New deaths</th>\n",
       "      <th>New recovered</th>\n",
       "      <th>Deaths / 100 Cases</th>\n",
       "      <th>Recovered / 100 Cases</th>\n",
       "      <th>Deaths / 100 Recovered</th>\n",
       "      <th>Confirmed last week</th>\n",
       "      <th>1 week change</th>\n",
       "      <th>1 week % increase</th>\n",
       "      <th>WHO Region</th>\n",
       "      <th>Recovery Rate</th>\n",
       "      <th>death_rate</th>\n",
       "      <th>recovery_rate</th>\n",
       "    </tr>\n",
       "  </thead>\n",
       "  <tbody>\n",
       "    <tr>\n",
       "      <th>120</th>\n",
       "      <td>Netherlands</td>\n",
       "      <td>53413</td>\n",
       "      <td>6160</td>\n",
       "      <td>189</td>\n",
       "      <td>47064</td>\n",
       "      <td>419</td>\n",
       "      <td>1</td>\n",
       "      <td>0</td>\n",
       "      <td>11.53</td>\n",
       "      <td>0.35</td>\n",
       "      <td>3259.26</td>\n",
       "      <td>52132</td>\n",
       "      <td>1281</td>\n",
       "      <td>2.46</td>\n",
       "      <td>Europe</td>\n",
       "      <td>0.35</td>\n",
       "      <td>3.968548</td>\n",
       "      <td>0.353846</td>\n",
       "    </tr>\n",
       "  </tbody>\n",
       "</table>\n",
       "</div>"
      ],
      "text/plain": [
       "    Country/Region  Confirmed  Deaths  Recovered  Active  New cases  \\\n",
       "120    Netherlands      53413    6160        189   47064        419   \n",
       "\n",
       "     New deaths  New recovered  Deaths / 100 Cases  Recovered / 100 Cases  \\\n",
       "120           1              0               11.53                   0.35   \n",
       "\n",
       "     Deaths / 100 Recovered  Confirmed last week  1 week change  \\\n",
       "120                 3259.26                52132           1281   \n",
       "\n",
       "     1 week % increase WHO Region  Recovery Rate  death_rate  recovery_rate  \n",
       "120               2.46     Europe           0.35    3.968548       0.353846  "
      ]
     },
     "execution_count": 51,
     "metadata": {},
     "output_type": "execute_result"
    }
   ],
   "source": []
  },
  {
   "cell_type": "markdown",
   "id": "aaa07a5f",
   "metadata": {},
   "source": []
  }
 ],
 "metadata": {
  "kernelspec": {
   "display_name": "Python 3",
   "language": "python",
   "name": "python3"
  },
  "language_info": {
   "codemirror_mode": {
    "name": "ipython",
    "version": 3
   },
   "file_extension": ".py",
   "mimetype": "text/x-python",
   "name": "python",
   "nbconvert_exporter": "python",
   "pygments_lexer": "ipython3",
   "version": "3.11.9"
  }
 },
 "nbformat": 4,
 "nbformat_minor": 5
}
