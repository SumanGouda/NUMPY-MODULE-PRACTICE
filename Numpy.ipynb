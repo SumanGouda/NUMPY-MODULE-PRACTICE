{
 "cells": [
  {
   "cell_type": "code",
   "execution_count": 1,
   "id": "e5d3be7b",
   "metadata": {},
   "outputs": [],
   "source": [
    "import numpy as np"
   ]
  },
  {
   "cell_type": "markdown",
   "id": "9b5861cb",
   "metadata": {},
   "source": [
    "-> Write a NumPy program to test whether none of the elements of a given array are zero."
   ]
  },
  {
   "cell_type": "code",
   "execution_count": null,
   "id": "c05110a5",
   "metadata": {},
   "outputs": [],
   "source": [
    "x = np.array([0, 1, 2, 3])\n",
    "print(np.all(x))   #Return False cause the array x do have 0 in it.\n",
    "\n",
    "x = np.array([0, 1, 0, 0])\n",
    "print(np.any(x))    #Return True becasue the array X do have a non-zero element."
   ]
  },
  {
   "cell_type": "markdown",
   "id": "b5cb0e48",
   "metadata": {},
   "source": [
    "-> Write a NumPy program to test a given array element-wise for finiteness (not infinity or not a number)."
   ]
  },
  {
   "cell_type": "code",
   "execution_count": null,
   "id": "66d8385d",
   "metadata": {},
   "outputs": [],
   "source": [
    "arr = np.array([1, 0, np.inf, np.nan, -np.inf, 2.5])\n",
    "print(np.isfinite(arr)) #It returns a boolean array of the same shape, with True indicating a finite number and False indicating a non-finite number.\n",
    "\n",
    "arr = np.array([1, 0, np.inf, np.nan, -np.inf, 2.5])\n",
    "print(np.isposinf(arr)) #Return true for that element which is positive infinite."
   ]
  },
  {
   "cell_type": "markdown",
   "id": "2637a41f",
   "metadata": {},
   "source": [
    "-> Write a NumPy program to test element-wise for complex numbers, real numbers in a given array. Also test if a given number is of a scalar type or not."
   ]
  },
  {
   "cell_type": "code",
   "execution_count": null,
   "id": "177c1892",
   "metadata": {},
   "outputs": [],
   "source": [
    "array = np.array([1+1j, 1+0j, 4.5, 3, 2, 2j])\n",
    "a = 2\n",
    "print(np.iscomplex(array))   #Return true if the element is a complex.\n",
    "print(np.isreal(array))   #Return true if the element is a real.\n",
    "print(np.isscalar(array))   #Return true if the element is a scaler.\n",
    "#  In NumPy, a scalar element refers to a single value inside a NumPy array — not an array or list itself, but just one numerical value (like an int, float, or even a complex number).\n",
    "print(np.isscalar(a))"
   ]
  },
  {
   "cell_type": "markdown",
   "id": "72a2e4fa",
   "metadata": {},
   "source": [
    "--> Convert a array to list."
   ]
  },
  {
   "cell_type": "code",
   "execution_count": null,
   "id": "4647b4c8",
   "metadata": {},
   "outputs": [],
   "source": [
    "l = [1,2,3,4]\n",
    "np.array(l)"
   ]
  },
  {
   "cell_type": "markdown",
   "id": "62d09d05",
   "metadata": {},
   "source": [
    "--> Create a 3 dimensional array."
   ]
  },
  {
   "cell_type": "code",
   "execution_count": null,
   "id": "40c24d83",
   "metadata": {},
   "outputs": [
    {
     "name": "stdout",
     "output_type": "stream",
     "text": [
      "3\n"
     ]
    }
   ],
   "source": [
    "ar3 = np.array([[[1,2,3,4],[1,2,3,4],[1,2,3,4]]])\n",
    "print(ar3.ndim)"
   ]
  },
  {
   "cell_type": "markdown",
   "id": "5c4cfe32",
   "metadata": {},
   "source": [
    "--> Create a multidimensional array."
   ]
  },
  {
   "cell_type": "code",
   "execution_count": 21,
   "id": "fc9505f4",
   "metadata": {},
   "outputs": [
    {
     "name": "stdout",
     "output_type": "stream",
     "text": [
      "[[[[[1 2 3 4 5]]]]]\n"
     ]
    }
   ],
   "source": [
    "var = np.array([1,2,3,4,5],ndmin = 5)\n",
    "print(var)"
   ]
  },
  {
   "cell_type": "markdown",
   "id": "56ae34b6",
   "metadata": {},
   "source": [
    "--> Create a zero array."
   ]
  },
  {
   "cell_type": "code",
   "execution_count": null,
   "id": "060a48a7",
   "metadata": {},
   "outputs": [],
   "source": [
    "zero_array = np.zeros(4)\n",
    "zero_array1 = np.zeros((3,4))   #Creates a 2D array of 3 rows and 4 columns.\n",
    "print(zero_array1,\"\\n\")\n",
    "\n",
    "one_array = np.ones(6)\n",
    "print(one_array,\"\\n\")   #Creates an 1D array of 6 columns and 1 row.\n",
    "\n",
    "new = one_array.reshape(2,3)    #Reshape the 1D array to a 2D array of 2 Rows and 3 Columns.\n",
    "print(new)"
   ]
  },
  {
   "cell_type": "markdown",
   "id": "bec5f483",
   "metadata": {},
   "source": [
    "--> Rearanging an existing array."
   ]
  },
  {
   "cell_type": "code",
   "execution_count": null,
   "id": "0c6a1f3d",
   "metadata": {},
   "outputs": [],
   "source": [
    "arr = np.array([10, 20, 30, 40, 50, 60])\n",
    "new = arr.reshape(3,2)\n",
    "print(new)"
   ]
  },
  {
   "cell_type": "markdown",
   "id": "d93f4e5a",
   "metadata": {},
   "source": [
    "Create an empty array."
   ]
  },
  {
   "cell_type": "code",
   "execution_count": null,
   "id": "eab835e7",
   "metadata": {},
   "outputs": [],
   "source": [
    "emp_array = np.empty(6)\n",
    "print(emp_array)"
   ]
  },
  {
   "cell_type": "markdown",
   "id": "da9b14f4",
   "metadata": {},
   "source": [
    "--> Create an array with digonal element as 1."
   ]
  },
  {
   "cell_type": "code",
   "execution_count": null,
   "id": "a23f1466",
   "metadata": {},
   "outputs": [],
   "source": [
    "ar_dia = np.eye(5,5)\n",
    "print(ar_dia)   #Creates a square matrix type array with digonal entries 1."
   ]
  },
  {
   "cell_type": "markdown",
   "id": "8f54f071",
   "metadata": {},
   "source": [
    "--> Create an array with a perticular gap."
   ]
  },
  {
   "cell_type": "code",
   "execution_count": 3,
   "id": "6c28f707",
   "metadata": {},
   "outputs": [
    {
     "name": "stdout",
     "output_type": "stream",
     "text": [
      "[ 0.  2.  4.  6.  8. 10.]\n"
     ]
    }
   ],
   "source": [
    "ar_lin = np.linspace(0,10,num = 6)\n",
    "print(ar_lin)"
   ]
  },
  {
   "cell_type": "markdown",
   "id": "7c33ef39",
   "metadata": {},
   "source": [
    "--> Creating a random array."
   ]
  },
  {
   "cell_type": "code",
   "execution_count": null,
   "id": "25a49de4",
   "metadata": {},
   "outputs": [],
   "source": [
    "var = np.random.rand(2)   #Creates a positive number between 0 to 1\n",
    "print(var,\"\\n\")\n",
    "\n",
    "var1 = np.random.randn(2)   #Creates both positive and negetive number\n",
    "print(var1,\"\\n\")\n",
    "\n",
    "var2 = np.random.ranf(4)    #Creates array with numbers between [0,1)\n",
    "print(var2,\"\\n\")\n",
    "\n",
    "var3 = np.random.randint(4,16,6)    #Creates 6 numbers between 4 and 16.\n",
    "print(var3)"
   ]
  },
  {
   "cell_type": "markdown",
   "id": "80c4afcc",
   "metadata": {},
   "source": [
    "## Datatype in Numpy array"
   ]
  },
  {
   "cell_type": "code",
   "execution_count": null,
   "id": "31a3d700",
   "metadata": {},
   "outputs": [],
   "source": [
    "var = np.array([10, 20, 30, 40, 50, 60],dtype=np.int32)     # Change the datatype to int32\n",
    "# print(var.dtype)\n",
    "\n",
    "new = np.float32(var)   #Converts the data type to float.\n",
    "print(var.dtype)\n",
    "print(new.dtype)\n",
    "print(var)\n",
    "print(new)"
   ]
  },
  {
   "cell_type": "code",
   "execution_count": null,
   "id": "a4a62ad2",
   "metadata": {},
   "outputs": [],
   "source": [
    "var = np.array([10, 20, 30, 40, 50, 60])\n",
    "new_var = var.astype(float)     # This will convert the integer datatype to a float data type.\n",
    "print(new_var)"
   ]
  },
  {
   "cell_type": "markdown",
   "id": "98a6da81",
   "metadata": {},
   "source": [
    "## Arithmetic Operation in NumPy Arrays."
   ]
  },
  {
   "cell_type": "markdown",
   "id": "f8567f9b",
   "metadata": {},
   "source": [
    "--> For 1D array."
   ]
  },
  {
   "cell_type": "code",
   "execution_count": null,
   "id": "3037341e",
   "metadata": {},
   "outputs": [],
   "source": [
    "var1 = np.array([1,0,3,4,5])\n",
    "var2 = np.array([7,8,9,6,5])\n",
    "\n",
    "var_add = var1 + 3   #Add 3 to each element of the array.\n",
    "print(var_add,\"\\n\")\n",
    "\n",
    "var_sub = var1 - var2   # Or can also use ar_sub = np.sub(var1 , var2)\n",
    "print(var_sub,\"\\n\")     # Subtract each element of var2 from the same positioned element of var1.\n",
    "\n",
    "var_mul = var1 * var2   # np.multiply(var1, var2)\n",
    "print(var_mul,\"\\n\") \n",
    "\n",
    "var_div = var1 / var2   # np.divide(var1, var2)\n",
    "print(var_div,\"\\n\")\n",
    "\n",
    "var_mod = var1 % var2   # np.mod(var1, var2)\n",
    "print(var_mod,\"\\n\")     # Returns the remainder when var1 is divided by var2.\n",
    "\n",
    "var_pow = var1**var2    # np.power(var1,var2)\n",
    "print(var_pow,\"\\n\")\n",
    "\n",
    "var_res = 1 / var1      # np.reciprocal(var1)\n",
    "print(var_res,\"\\n\")\n"
   ]
  },
  {
   "cell_type": "markdown",
   "id": "946a3c10",
   "metadata": {},
   "source": [
    "--> For 2D array"
   ]
  },
  {
   "cell_type": "code",
   "execution_count": null,
   "id": "6c43c681",
   "metadata": {},
   "outputs": [],
   "source": [
    "var1 = np.array([[1,2,3,4,5], [8,5,2,1,6]])\n",
    "var2 = np.array([[7,8,9,6,5], [9,4,6,3,7]])\n",
    "\n",
    "var_add = var1 + var2   #Add 3 to each element of the array.\n",
    "print(var_add,\"\\n\")\n",
    "\n",
    "var_sub = var1 - var2   # Or can also use ar_sub = np.sub(var1 , var2)\n",
    "print(var_sub,\"\\n\")     # Subtract each element of var2 from the same positioned element of var1.\n",
    "\n",
    "var_mul = var1 * var2   # np.multiply(var1, var2)\n",
    "print(var_mul,\"\\n\") \n",
    "\n",
    "var_div = var1 / var2   # np.divide(var1, var2)\n",
    "print(var_div,\"\\n\")\n",
    "\n",
    "var_mod = var1 % var2   # np.mod(var1, var2)\n",
    "print(var_mod,\"\\n\")     # Returns the remainder when var1 is divided by var2.\n",
    "\n",
    "var_pow = var1**var2    # np.power(var1,var2)\n",
    "print(var_pow,\"\\n\")\n",
    "\n",
    "var_res = 1 / var1      # np.reciprocal(var1)\n",
    "print(var_res,\"\\n\")\n"
   ]
  },
  {
   "cell_type": "markdown",
   "id": "7f6847e0",
   "metadata": {},
   "source": [
    "## Arithematic Operations in NumPy"
   ]
  },
  {
   "cell_type": "markdown",
   "id": "6ebba26f",
   "metadata": {},
   "source": [
    "--> 1D array"
   ]
  },
  {
   "cell_type": "code",
   "execution_count": null,
   "id": "83028e71",
   "metadata": {},
   "outputs": [],
   "source": [
    "var = np.array([1,2,3,4,5])\n",
    "print(\"Min: \",np.min(var), \"Index Number: \", np.argmin(var))    # np.argmin(var) will return the index number of min value in the array.\n",
    "print(\"Max: \",np.max(var), \"Index Number: \", np.argmax(var))    # np.argmax(var) will return the index number of max value in the array.\n"
   ]
  },
  {
   "cell_type": "markdown",
   "id": "0461f211",
   "metadata": {},
   "source": [
    "--> 2D array"
   ]
  },
  {
   "cell_type": "code",
   "execution_count": null,
   "id": "8b7c5196",
   "metadata": {},
   "outputs": [],
   "source": [
    "var = np.array([[1,2,3,4,5] , [8,9,7,4,6]])\n",
    "print(var,\"\\n\")\n",
    "\n",
    "print(\"Minimum along the rows: \",np.min(var, axis=1),\"\\n\")   # axis = 1 suggests the operation to be row wise.\n",
    "print(\"Maximum along the columns: \", np.max(var, axis = 0),\"\\n\")     # axis = 0 suggests to perform the operation column wise.\n",
    "\n",
    "print(\"Square Root of each element: \", np.sqrt(var),\"\\n\")\n",
    "\n",
    "print(\"sin of each element: \", np.sin(var),\"\\n\")\n",
    "print(\"cos of each element: \", np.cos(var),\"\\n\")"
   ]
  },
  {
   "cell_type": "markdown",
   "id": "e08f135d",
   "metadata": {},
   "source": [
    "--> CUMSUM function"
   ]
  },
  {
   "cell_type": "code",
   "execution_count": 37,
   "id": "3f017892",
   "metadata": {},
   "outputs": [
    {
     "name": "stdout",
     "output_type": "stream",
     "text": [
      "[ 1  3  6 10 15]\n"
     ]
    }
   ],
   "source": [
    "#    numpy. cumsum() function is used to compute the cumulative sum of elements in an array. Cumulative sum refers to a sequence where each element is the sum of all previous elements plus itself.\n",
    "var = np.array([1,2,3,4,5])\n",
    "print(np.cumsum(var))"
   ]
  },
  {
   "cell_type": "markdown",
   "id": "6eb1485c",
   "metadata": {},
   "source": [
    "## Shape and Reshaping in NumPy Arrays."
   ]
  },
  {
   "cell_type": "markdown",
   "id": "4ffd36e9",
   "metadata": {},
   "source": [
    "--> Shape in Numpy"
   ]
  },
  {
   "cell_type": "code",
   "execution_count": null,
   "id": "d001ca6e",
   "metadata": {},
   "outputs": [],
   "source": [
    "var = np.array([[1,2,5],[4,6,5]])\n",
    "var1 = np.array([1,2,3,4,5],ndmin=5)\n",
    "\n",
    "print(var)\n",
    "print(var.shape,\"\\n\")       # The output (2,3) means the first dimension have 2 elements and the 2nd dimension have 3 elements init.\n",
    "\n",
    "print(var1)\n",
    "print(var1.shape)   #   (1, 1, 1, 1, 5), each dimesion have one element but the last one have 5 elements init."
   ]
  },
  {
   "cell_type": "markdown",
   "id": "487d1b72",
   "metadata": {},
   "source": [
    "--> Reshape a NumPy array"
   ]
  },
  {
   "cell_type": "code",
   "execution_count": null,
   "id": "bcf7ea17",
   "metadata": {},
   "outputs": [],
   "source": [
    "var = np.array([[1,2,5],[4,6,5]])\n",
    "var_new = var.reshape(6)    # Converts the array to a new array which have six element in the first and only dimesion.\n",
    "var_new1 = var.reshape(1,2,3)   # Now the array becomes 3 dimesional with first dimension having 1, second having 2 and the third having 3 elements each.\n",
    "\n",
    "print(var_new, \"\\n\")\n",
    "print(var_new1, \"\\n\")\n",
    "\n",
    "# To convert back var_new1 again to 1D array:\n",
    "new = var_new1.reshape(-1) \n",
    "print(new)"
   ]
  },
  {
   "cell_type": "markdown",
   "id": "8cde0c83",
   "metadata": {},
   "source": [
    "## Broadcasting in NumPy arrays"
   ]
  },
  {
   "cell_type": "code",
   "execution_count": null,
   "id": "1bdc7f95",
   "metadata": {},
   "outputs": [],
   "source": [
    "var = np.array([[1],\n",
    "                [2]])       # Shape : (2 x 1)\n",
    "var1 = np.array([[1,2,3],\n",
    "                 [7,8,9]])  # Shape : (2 x 3)  \n",
    "#  When operating on two arrays, NumPy compares their shapes element-wise. It starts with the trailing \n",
    "#           (i.e. rightmost) dimension and works its way left. Two dimensions are compatible when:\n",
    "#           1. they are equal, or\n",
    "#           2. one of them is 1.\n",
    "\n",
    "print(var + var1,\"\\n\")\n",
    "print(var - var1,\"\\n\")\n",
    "print(var * var1,\"\\n\")\n",
    "print(var % var1,\"\\n\")\n",
    "\n"
   ]
  },
  {
   "cell_type": "markdown",
   "id": "c9f7ecd0",
   "metadata": {},
   "source": [
    "## Indexing & Slicing "
   ]
  },
  {
   "cell_type": "markdown",
   "id": "38ae4ea0",
   "metadata": {},
   "source": [
    "--> 1D array"
   ]
  },
  {
   "cell_type": "code",
   "execution_count": 24,
   "id": "5ae6d0c6",
   "metadata": {},
   "outputs": [
    {
     "name": "stdout",
     "output_type": "stream",
     "text": [
      "3\n",
      "2\n"
     ]
    }
   ],
   "source": [
    "var = np.array([1,2,3,4])\n",
    "print(var[2])   # Returns the 2nd index in the array\n",
    "print(var[-3])\n",
    " "
   ]
  },
  {
   "cell_type": "markdown",
   "id": "d346f00a",
   "metadata": {},
   "source": [
    "--> 2D array"
   ]
  },
  {
   "cell_type": "code",
   "execution_count": null,
   "id": "62107875",
   "metadata": {},
   "outputs": [],
   "source": [
    "var = np.array([[1,2,3,4] , [4,5,6,9]])\n",
    "print(var[0,3])     # Returns the element from the zeroth index of 1st dimension and 3rd index of second dimension."
   ]
  },
  {
   "cell_type": "markdown",
   "id": "7d4011e8",
   "metadata": {},
   "source": [
    "--> 3D array"
   ]
  },
  {
   "cell_type": "code",
   "execution_count": null,
   "id": "d7beca8a",
   "metadata": {},
   "outputs": [
    {
     "name": "stdout",
     "output_type": "stream",
     "text": [
      "7\n",
      "(2, 2, 3)\n"
     ]
    }
   ],
   "source": [
    "var = np.array([[[1,2,3],[2,5,8]],[[1,7,9],[5,7,3]]])\n",
    "print(var[1,1,1])\n",
    "print(var.shape)\n"
   ]
  },
  {
   "cell_type": "markdown",
   "id": "1721dd59",
   "metadata": {},
   "source": [
    "--> Slicing an array"
   ]
  },
  {
   "cell_type": "code",
   "execution_count": null,
   "id": "9c22957c",
   "metadata": {},
   "outputs": [],
   "source": [
    "#   [ start : stop : step ]\n",
    "var = np.array([1,8,9,5,7,66,1,22,48,955,30])\n",
    "print(var[2:5])     # Mark that this will retun values upto the 4th index.\n",
    "print(var[2:])\n",
    "print(var[:4])\n",
    "print(var[1:6:2])       # The data will jump by 2 position\n",
    "print(var[::2])"
   ]
  },
  {
   "cell_type": "markdown",
   "id": "1adbae93",
   "metadata": {},
   "source": [
    "--> 2D array"
   ]
  },
  {
   "cell_type": "code",
   "execution_count": null,
   "id": "1d3f1b1d",
   "metadata": {},
   "outputs": [],
   "source": [
    "var = np.array([[1,2,3,4] , [4,5,6,9]])\n",
    "print(var[0,1:])    # Start slicing from the zroth element of first dimesion and 1st element of second dimension."
   ]
  },
  {
   "cell_type": "markdown",
   "id": "761a5a50",
   "metadata": {},
   "source": [
    "--> 3D array"
   ]
  },
  {
   "cell_type": "code",
   "execution_count": 25,
   "id": "df82d30f",
   "metadata": {},
   "outputs": [
    {
     "name": "stdout",
     "output_type": "stream",
     "text": [
      "[7 9]\n"
     ]
    }
   ],
   "source": [
    "var = np.array([[[1,2,3],[2,5,8]],[[1,7,9],[5,7,3]]])\n",
    "print(var[1,0,1:])"
   ]
  },
  {
   "cell_type": "markdown",
   "id": "2a8d80f9",
   "metadata": {},
   "source": [
    "## Iteration in NumPy Array"
   ]
  },
  {
   "cell_type": "markdown",
   "id": "10571110",
   "metadata": {},
   "source": [
    "--> Using for loop "
   ]
  },
  {
   "cell_type": "code",
   "execution_count": null,
   "id": "667e816d",
   "metadata": {},
   "outputs": [],
   "source": [
    "var1 = np.array([6,5,8,9,7,6,2])\n",
    "for i in var1:\n",
    "    print(i)\n",
    "\n",
    "print()    \n",
    "\n",
    "var2 = np.array([[1,2,3,4],[5,4,6,9]])\n",
    "for i in var2:\n",
    "    print(i)\n",
    "\n",
    "print()\n",
    "\n",
    "var3 = np.array([[[1,2,3],[5,2,4]],[[5,8,7],[7,8,3]]])\n",
    "for i in var3:\n",
    "    print(i)"
   ]
  },
  {
   "cell_type": "markdown",
   "id": "e38eb63f",
   "metadata": {},
   "source": [
    "--> Using Numpy fucntion "
   ]
  },
  {
   "cell_type": "code",
   "execution_count": null,
   "id": "3badb749",
   "metadata": {},
   "outputs": [],
   "source": [
    "var3 = np.array([[[1,2,3],[5,2,4]],[[5,8,7],[7,8,3]]])\n",
    "for i in np.nditer(var3):\n",
    "    print(i)\n",
    "    \n",
    "for i,data in np.ndenumerate(var3):\n",
    "    print(i,data)       # Returns the value with the index number."
   ]
  },
  {
   "cell_type": "markdown",
   "id": "f53718f4",
   "metadata": {},
   "source": [
    "## Copy and view function "
   ]
  },
  {
   "cell_type": "markdown",
   "id": "ec689d1d",
   "metadata": {},
   "source": [
    "copy():\n",
    "--> Use it when you want a completely independent copy of the array.\n",
    "\n",
    "--> Changes to the new array won’t affect the original array."
   ]
  },
  {
   "cell_type": "code",
   "execution_count": null,
   "id": "7f0ad9ab",
   "metadata": {},
   "outputs": [],
   "source": [
    "var1 = np.array([6,5,8,9,7,6,2])\n",
    "cp = var1.copy()\n",
    "\n",
    "var1[3] = 10    # It will only change in the var1 array not in cp.\n",
    "\n",
    "print(\"var1: \",var1)\n",
    "print(\"cp: \",cp)"
   ]
  },
  {
   "cell_type": "markdown",
   "id": "66265a28",
   "metadata": {},
   "source": [
    "view():\n",
    "--> Creates a new array object that shares the same data as the original.\n",
    "\n",
    "--> Changes to one will affect the other."
   ]
  },
  {
   "cell_type": "code",
   "execution_count": null,
   "id": "89521987",
   "metadata": {},
   "outputs": [],
   "source": [
    "var1 = np.array([6,5,8,9,7,6,2])\n",
    "vw = var1.view()\n",
    "\n",
    "var1[3] = 10    # It will change in the var1 array alogn with vw.\n",
    "\n",
    "print(\"var1: \",var1)\n",
    "print(\"cp: \",vw)"
   ]
  },
  {
   "cell_type": "markdown",
   "id": "b26016d3",
   "metadata": {},
   "source": [
    "## Join & Split Functions"
   ]
  },
  {
   "cell_type": "markdown",
   "id": "c7408b45",
   "metadata": {},
   "source": [
    "To join two arrays or more  they must have same number of elements."
   ]
  },
  {
   "cell_type": "markdown",
   "id": "a0b89d47",
   "metadata": {},
   "source": [
    "-->  1D array "
   ]
  },
  {
   "cell_type": "code",
   "execution_count": 28,
   "id": "5df71b29",
   "metadata": {},
   "outputs": [
    {
     "name": "stdout",
     "output_type": "stream",
     "text": [
      "[1 2 3 4 8 9 6 5]\n"
     ]
    }
   ],
   "source": [
    "var1 = np.array([1,2,3,4])\n",
    "var2 = np.array([8,9,6,5])\n",
    "merge = np.concatenate((var1, var2))\n",
    "print(merge)"
   ]
  },
  {
   "cell_type": "markdown",
   "id": "06f58ed1",
   "metadata": {},
   "source": [
    "--> 2D & 3D array"
   ]
  },
  {
   "cell_type": "code",
   "execution_count": 29,
   "id": "89e5c235",
   "metadata": {},
   "outputs": [
    {
     "name": "stdout",
     "output_type": "stream",
     "text": [
      "[[1 5 9 6 1 2 3 4]\n",
      " [5 4 6 9 4 8 7 3]]\n"
     ]
    }
   ],
   "source": [
    "var1 = np.array([[1,5,9,6],[5,4,6,9]])\n",
    "var2 = np.array([[1,2,3,4],[4,8,7,3]])\n",
    "\n",
    "merge_arr = np.concatenate((var1,var2),axis=1)  # This will merge the array along the row. Axis = 0 for doing along the column.\n",
    "print(merge_arr)\n"
   ]
  },
  {
   "cell_type": "markdown",
   "id": "311bfcbf",
   "metadata": {},
   "source": [
    "> Using stack function"
   ]
  },
  {
   "cell_type": "code",
   "execution_count": 30,
   "id": "c2b3fefc",
   "metadata": {},
   "outputs": [],
   "source": [
    "var1 = np.array([[1,5,9,6],[5,4,6,9]])\n",
    "var2 = np.array([[1,2,3,4],[4,8,7,3]])\n",
    "\n",
    "merge_arr = np.stack ((var1,var2),axis=1)  # This will merge the array along the row. Axis = 0 for doing along the column."
   ]
  },
  {
   "cell_type": "code",
   "execution_count": 26,
   "id": "061a8173",
   "metadata": {},
   "outputs": [
    {
     "name": "stdout",
     "output_type": "stream",
     "text": [
      "[[1 5 9 6]\n",
      " [5 4 6 9]]\n",
      "[[1 2 3 4]\n",
      " [4 8 7 3]]\n"
     ]
    }
   ],
   "source": [
    "print(var1)\n",
    "print(var2)"
   ]
  },
  {
   "cell_type": "markdown",
   "id": "a17d8b05",
   "metadata": {},
   "source": [
    "--> Merge along vertically."
   ]
  },
  {
   "cell_type": "code",
   "execution_count": 27,
   "id": "b3a7bdba",
   "metadata": {},
   "outputs": [
    {
     "name": "stdout",
     "output_type": "stream",
     "text": [
      "[[1 5 9 6 1 2 3 4]\n",
      " [5 4 6 9 4 8 7 3]]\n"
     ]
    }
   ],
   "source": [
    "merge_arr = np.hstack ((var1,var2))\n",
    "print(merge_arr)        #Along horizontal."
   ]
  },
  {
   "cell_type": "markdown",
   "id": "6585709c",
   "metadata": {},
   "source": [
    "--> Merge along the column."
   ]
  },
  {
   "cell_type": "code",
   "execution_count": 28,
   "id": "7149a6c2",
   "metadata": {},
   "outputs": [
    {
     "name": "stdout",
     "output_type": "stream",
     "text": [
      "[[1 5 9 6]\n",
      " [5 4 6 9]\n",
      " [1 2 3 4]\n",
      " [4 8 7 3]]\n"
     ]
    }
   ],
   "source": [
    "merge_arr = np.vstack ((var1,var2))\n",
    "print(merge_arr)        # Along vertical."
   ]
  },
  {
   "cell_type": "markdown",
   "id": "78030bf0",
   "metadata": {},
   "source": [
    "--> Merge along dimesion."
   ]
  },
  {
   "cell_type": "code",
   "execution_count": 31,
   "id": "e7ab2209",
   "metadata": {},
   "outputs": [
    {
     "name": "stdout",
     "output_type": "stream",
     "text": [
      "[[[1 1]\n",
      "  [5 2]\n",
      "  [9 3]\n",
      "  [6 4]]\n",
      "\n",
      " [[5 4]\n",
      "  [4 8]\n",
      "  [6 7]\n",
      "  [9 3]]]\n"
     ]
    }
   ],
   "source": [
    "merge_arr = np.dstack ((var1,var2))\n",
    "print(merge_arr)    # Merge alogn the dimension."
   ]
  },
  {
   "cell_type": "markdown",
   "id": "74a783d4",
   "metadata": {},
   "source": [
    "> Split array"
   ]
  },
  {
   "cell_type": "code",
   "execution_count": 36,
   "id": "058bafac",
   "metadata": {},
   "outputs": [
    {
     "name": "stdout",
     "output_type": "stream",
     "text": [
      "[array([1, 2]), array([3]), array([4])] \n",
      "\n",
      "[array([[1, 2, 3, 4]]), array([[4, 8, 7, 3]])] \n",
      "\n"
     ]
    }
   ],
   "source": [
    "## 1D array\n",
    "var1 = np.array([1,2,3,4])\n",
    "new_var1 = np.array_split(var1,3)\n",
    "print(new_var1,\"\\n\")\n",
    "\n",
    "## 2D array\n",
    "var2 = np.array([[1,2,3,4],[4,8,7,3]])\n",
    "new_var2 = np.array_split(var2,2)\n",
    "print(new_var2,\"\\n\")"
   ]
  },
  {
   "cell_type": "markdown",
   "id": "36c7d7b9",
   "metadata": {},
   "source": [
    "## Search Function "
   ]
  },
  {
   "cell_type": "markdown",
   "id": "c98b0f90",
   "metadata": {},
   "source": [
    "> Using Where function"
   ]
  },
  {
   "cell_type": "code",
   "execution_count": null,
   "id": "edb4c255",
   "metadata": {},
   "outputs": [
    {
     "name": "stdout",
     "output_type": "stream",
     "text": [
      "(array([3]),)\n"
     ]
    }
   ],
   "source": [
    "arr = np.array([1,2,3,4,5,2,6,5,7])\n",
    "var = np.where( arr == 4)   # index number of 4 will be stored inside the var array.\n",
    "print(var)"
   ]
  },
  {
   "cell_type": "markdown",
   "id": "ff6a07bf",
   "metadata": {},
   "source": [
    "> Searchsorted function"
   ]
  },
  {
   "cell_type": "code",
   "execution_count": 13,
   "id": "377f8cd4",
   "metadata": {},
   "outputs": [
    {
     "name": "stdout",
     "output_type": "stream",
     "text": [
      "The number which we want to insert :  [4, 8, 0]\n",
      "Output indices to maintain sorted array :  [2 5 0]\n",
      "Final array after insertion:  [0 2 3 4 4 5 6 8]\n"
     ]
    }
   ],
   "source": [
    "in_arr = [2, 3, 4, 5, 6]\n",
    "num = [4, 8, 0]\n",
    "print(\"The number which we want to insert : \", num)  \n",
    "\n",
    "out_ind = np.searchsorted(in_arr, num) \n",
    "print (\"Output indices to maintain sorted array : \", out_ind) \n",
    "\n",
    "result = np.insert(in_arr, out_ind, num)\n",
    "print(\"Final array after insertion: \", result)"
   ]
  },
  {
   "cell_type": "markdown",
   "id": "e7abe7c2",
   "metadata": {},
   "source": [
    "> You're inserting multiple values into one array.\n",
    "\n",
    "> Each insertion shifts the array:\n",
    "\n",
    "  1. When you insert at index 0, all the following indices move right\n",
    "\n",
    "  2. So the original out_ind becomes outdated after the first insertion!\n",
    "\n",
    "> 0 inserted at 0 then the other elements shifts right by 1 index, so the the next insertion which is 4 will be inserted at 2+1 = 3rd index, similarly 8 will be inserted at 5+2 = 7th index. "
   ]
  },
  {
   "cell_type": "markdown",
   "id": "8a6c5c89",
   "metadata": {},
   "source": [
    "#  Understanding Tolerance In Numpy."
   ]
  },
  {
   "cell_type": "code",
   "execution_count": 32,
   "id": "9b87d3d7",
   "metadata": {},
   "outputs": [
    {
     "name": "stdout",
     "output_type": "stream",
     "text": [
      "a + b == c: False\n",
      "a + b = 0.30000000000000004\n",
      "c     = 0.3\n"
     ]
    }
   ],
   "source": [
    "a = 0.1\n",
    "b = 0.2\n",
    "c = 0.3\n",
    "\n",
    "# Direct comparison\n",
    "print(\"a + b == c:\", a + b == c)  # Expected: True, Actual: False\n",
    "\n",
    "# Show the actual result\n",
    "print(\"a + b =\", a + b)\n",
    "print(\"c     =\", c)\n"
   ]
  },
  {
   "cell_type": "code",
   "execution_count": null,
   "id": "eb03b566",
   "metadata": {},
   "outputs": [],
   "source": [
    "# 💡 Why This Happens:\n",
    "# 0.1 and 0.2 can't be perfectly represented in binary (just like 1/3 can't be in decimal).\n",
    "# So when Python adds 0.1 + 0.2, the result is slightly more than 0.3 (like 0.30000000000000004).\n",
    "\n",
    "print(\"Using np.isclose:\", np.isclose(a + b, c))  # Correct way ✅\n"
   ]
  },
  {
   "cell_type": "markdown",
   "id": "35d9e51f",
   "metadata": {},
   "source": [
    "-> Write a NumPy program to test whether two arrays are element-wise equal within a tolerance."
   ]
  },
  {
   "cell_type": "code",
   "execution_count": 6,
   "id": "9f5c6668",
   "metadata": {},
   "outputs": [
    {
     "data": {
      "text/plain": [
       "array([ True,  True, False])"
      ]
     },
     "execution_count": 6,
     "metadata": {},
     "output_type": "execute_result"
    }
   ],
   "source": [
    "np.isclose([1,1.000001,1.00002] , [1.00001, 1.001, 1.2], rtol=1e-1, atol=1e-5)\n",
    "# abs(a-b) <= ( atol + rtol * abs(b))\n",
    "# atol is that tolerance which shows how much the data 'a' can varies by it's own."
   ]
  },
  {
   "cell_type": "markdown",
   "id": "dbc9011c",
   "metadata": {},
   "source": [
    "# 🧠 NumPy Practice Set (25 Questions)"
   ]
  },
  {
   "cell_type": "code",
   "execution_count": 2,
   "id": "0bc679ff",
   "metadata": {},
   "outputs": [],
   "source": [
    "import numpy as np"
   ]
  },
  {
   "cell_type": "markdown",
   "id": "ec0fd8c1",
   "metadata": {},
   "source": [
    "> 🔹 Array Creation & Basics"
   ]
  },
  {
   "cell_type": "markdown",
   "id": "36e95984",
   "metadata": {},
   "source": [
    "1. Create a 1D array of numbers from 0 to 20 with step 2."
   ]
  },
  {
   "cell_type": "code",
   "execution_count": 5,
   "id": "16807f52",
   "metadata": {},
   "outputs": [
    {
     "data": {
      "text/plain": [
       "array([ 0,  2,  4,  6,  8, 10, 12, 14, 16, 18, 20])"
      ]
     },
     "execution_count": 5,
     "metadata": {},
     "output_type": "execute_result"
    }
   ],
   "source": [
    "arr = np.arange(0,22,2)\n",
    "arr"
   ]
  },
  {
   "cell_type": "markdown",
   "id": "a25b9b79",
   "metadata": {},
   "source": [
    "2. Create a 3x3 identity matrix."
   ]
  },
  {
   "cell_type": "code",
   "execution_count": 6,
   "id": "2612d994",
   "metadata": {},
   "outputs": [
    {
     "data": {
      "text/plain": [
       "array([[1., 0., 0.],\n",
       "       [0., 1., 0.],\n",
       "       [0., 0., 1.]])"
      ]
     },
     "execution_count": 6,
     "metadata": {},
     "output_type": "execute_result"
    }
   ],
   "source": [
    "arr = np.eye(3,3)\n",
    "arr"
   ]
  },
  {
   "cell_type": "markdown",
   "id": "faaae0c8",
   "metadata": {},
   "source": [
    "3. Create an array of shape (4, 4) filled with random floats between 0 and 1."
   ]
  },
  {
   "cell_type": "code",
   "execution_count": 15,
   "id": "8b3e4866",
   "metadata": {},
   "outputs": [
    {
     "data": {
      "text/plain": [
       "array([[0.76949478, 0.85629508, 0.40686466, 0.62931444],\n",
       "       [0.27755992, 0.07468858, 0.91416398, 0.46690123],\n",
       "       [0.68449154, 0.67880611, 0.36870563, 0.36089201],\n",
       "       [0.22311643, 0.95105382, 0.63133584, 0.70601717]])"
      ]
     },
     "execution_count": 15,
     "metadata": {},
     "output_type": "execute_result"
    }
   ],
   "source": [
    "arr = np.random.ranf((4,4))\n",
    "arr"
   ]
  },
  {
   "cell_type": "markdown",
   "id": "4655437a",
   "metadata": {},
   "source": [
    "4. Create a 5x5 matrix with values from 1 to 25."
   ]
  },
  {
   "cell_type": "code",
   "execution_count": 19,
   "id": "0c929a5e",
   "metadata": {},
   "outputs": [
    {
     "data": {
      "text/plain": [
       "array([[ 1,  2,  3,  4,  5],\n",
       "       [ 6,  7,  8,  9, 10],\n",
       "       [11, 12, 13, 14, 15],\n",
       "       [16, 17, 18, 19, 20],\n",
       "       [21, 22, 23, 24, 25]])"
      ]
     },
     "execution_count": 19,
     "metadata": {},
     "output_type": "execute_result"
    }
   ],
   "source": [
    "arr = np.arange(1,26).reshape(5,5)\n",
    "arr"
   ]
  },
  {
   "cell_type": "markdown",
   "id": "8982b6f1",
   "metadata": {},
   "source": [
    "5. Create a 2D array where the border is 1 and inside is 0 (5x5)."
   ]
  },
  {
   "cell_type": "code",
   "execution_count": null,
   "id": "52ded7c3",
   "metadata": {},
   "outputs": [
    {
     "data": {
      "text/plain": [
       "array([[1, 1, 1, 1, 1],\n",
       "       [1, 0, 0, 0, 1],\n",
       "       [1, 0, 0, 0, 1],\n",
       "       [1, 0, 0, 0, 1],\n",
       "       [1, 1, 1, 1, 1]])"
      ]
     },
     "execution_count": 43,
     "metadata": {},
     "output_type": "execute_result"
    }
   ],
   "source": [
    "arr = np.ones((5,5),dtype=int)\n",
    "arr[1:-1,1:-1] = 0\n",
    "arr"
   ]
  },
  {
   "cell_type": "markdown",
   "id": "414d2262",
   "metadata": {},
   "source": [
    "> Indexing & Slicing"
   ]
  },
  {
   "cell_type": "markdown",
   "id": "5a57d5c2",
   "metadata": {},
   "source": [
    "6. Extract the middle 3x3 matrix from a 5x5 matrix filled with values from 1 to 25."
   ]
  },
  {
   "cell_type": "code",
   "execution_count": 45,
   "id": "f16f5367",
   "metadata": {},
   "outputs": [
    {
     "data": {
      "text/plain": [
       "array([[ 7,  8,  9],\n",
       "       [12, 13, 14],\n",
       "       [17, 18, 19]])"
      ]
     },
     "execution_count": 45,
     "metadata": {},
     "output_type": "execute_result"
    }
   ],
   "source": [
    "arr = np.arange(1,26).reshape((5,5))\n",
    "arr1 = arr[1:-1,1:-1]\n",
    "arr1"
   ]
  },
  {
   "cell_type": "markdown",
   "id": "70338113",
   "metadata": {},
   "source": [
    "7. Replace all odd numbers in an array with -1."
   ]
  },
  {
   "cell_type": "code",
   "execution_count": 57,
   "id": "e58d61f7",
   "metadata": {},
   "outputs": [
    {
     "name": "stdout",
     "output_type": "stream",
     "text": [
      "[[79 62 17 74  9]\n",
      " [63 28 31 81  8]\n",
      " [77 16 54 81 28]\n",
      " [45 78 76 66 48]\n",
      " [31 85 87 19 10]]\n",
      "\n",
      "[[-1 62 -1 74 -1]\n",
      " [-1 28 -1 -1  8]\n",
      " [-1 16 54 -1 28]\n",
      " [-1 78 76 66 48]\n",
      " [-1 -1 -1 -1 10]]\n"
     ]
    }
   ],
   "source": [
    "np.random.seed(5)\n",
    "arr = np.random.randint(1,100,size=((5,5)))\n",
    "print(arr)\n",
    "print()\n",
    "arr[ arr % 2 != 0] = -1\n",
    "print(arr)"
   ]
  },
  {
   "cell_type": "markdown",
   "id": "d6c870ed",
   "metadata": {},
   "source": [
    "8. Extract all elements in a 1D array that are divisible by both 3 and 5."
   ]
  },
  {
   "cell_type": "code",
   "execution_count": 5,
   "id": "0598f412",
   "metadata": {},
   "outputs": [
    {
     "name": "stdout",
     "output_type": "stream",
     "text": [
      "[62 29 30 43 69 53 78 15 57 79] \n",
      " [30 15]\n"
     ]
    }
   ],
   "source": [
    "arr = np.random.randint(0,100,10)\n",
    "var = arr[arr % 15 == 0 ]\n",
    "print(arr,\"\\n\",var)"
   ]
  },
  {
   "cell_type": "markdown",
   "id": "2c1935bc",
   "metadata": {},
   "source": [
    "9. Get all rows from a 2D array where the sum is greater than 20."
   ]
  },
  {
   "cell_type": "code",
   "execution_count": 13,
   "id": "bb059d05",
   "metadata": {},
   "outputs": [
    {
     "name": "stdout",
     "output_type": "stream",
     "text": [
      "The array is: [[ 9  4]\n",
      " [17  0]\n",
      " [ 6  3]\n",
      " [ 4  8]\n",
      " [ 8 18]] \n",
      "\n",
      "Rows in array whose sum is greater than 20: \n",
      "[ 8 18]\n"
     ]
    }
   ],
   "source": [
    "arr = np.random.randint(0,20,10).reshape(5,2)\n",
    "print(f\"The array is: {arr} \\n\")\n",
    "print(\"Rows in array whose sum is greater than 20: \")\n",
    "for row in arr:\n",
    "    if row.sum() > 20:\n",
    "        print(row)"
   ]
  },
  {
   "cell_type": "markdown",
   "id": "c4eee6ac",
   "metadata": {},
   "source": [
    "10. Reverse a 1D array without using loops."
   ]
  },
  {
   "cell_type": "code",
   "execution_count": 14,
   "id": "8cd675ab",
   "metadata": {},
   "outputs": [
    {
     "data": {
      "text/plain": [
       "array([0, 9, 8, 7, 6, 5, 4, 3, 2, 1])"
      ]
     },
     "execution_count": 14,
     "metadata": {},
     "output_type": "execute_result"
    }
   ],
   "source": [
    "arr = np.array([1,2,3,4,5,6,7,8,9,0])\n",
    "rev_arr = arr[::-1]\n",
    "rev_arr"
   ]
  },
  {
   "cell_type": "markdown",
   "id": "187b8c88",
   "metadata": {},
   "source": [
    "> Mathematical Operations"
   ]
  },
  {
   "cell_type": "markdown",
   "id": "d20a9795",
   "metadata": {},
   "source": [
    "11. Multiply two matrices using both * and np.dot() and explain the difference."
   ]
  },
  {
   "cell_type": "code",
   "execution_count": null,
   "id": "e4bfae4d",
   "metadata": {},
   "outputs": [
    {
     "name": "stdout",
     "output_type": "stream",
     "text": [
      "Array 1 :\n",
      " [[0.47130306 0.1596776  0.88100452]\n",
      " [0.10189489 0.95278007 0.13664484]\n",
      " [0.75301865 0.05330339 0.15283312]] \n",
      "\n",
      "Array 2 :\n",
      " [[0.75936643 0.99390282 0.40882899]\n",
      " [0.53039276 0.22936901 0.54846359]\n",
      " [0.54829316 0.61048943 0.5929193 ]] \n",
      "\n",
      "Multiplication:\n",
      " [[0.92563231 1.04289847 0.80262428]\n",
      " [0.65764464 0.40323207 0.64524213]\n",
      " [0.68388617 0.85395651 0.42770853]]\n"
     ]
    }
   ],
   "source": [
    "arr1 = np.random.ranf((3,3))\n",
    "print(\"Array 1 :\\n\",arr1,\"\\n\")\n",
    "arr2 = np.random.ranf((3,3))\n",
    "print(\"Array 2 :\\n\",arr2,\"\\n\")\n",
    "\n",
    "#multiplication = arr1 * arr2\n",
    "multiplication = np.dot(arr1,arr2)      # only works for square matrix.\n",
    "print(\"Multiplication:\\n\",multiplication)\n"
   ]
  },
  {
   "cell_type": "markdown",
   "id": "7d2d11fa",
   "metadata": {},
   "source": [
    "12. Normalize an array to bring all values between 0 and 1."
   ]
  },
  {
   "cell_type": "code",
   "execution_count": null,
   "id": "232a5866",
   "metadata": {},
   "outputs": [
    {
     "name": "stdout",
     "output_type": "stream",
     "text": [
      "[[[26 35 49]\n",
      "  [33 35 17]\n",
      "  [10 28  7]]\n",
      "\n",
      " [[48 43 32]\n",
      "  [29 17 25]\n",
      "  [18 45 35]]\n",
      "\n",
      " [[47 49  8]\n",
      "  [13 19 34]\n",
      "  [19 33 42]]]\n"
     ]
    },
    {
     "data": {
      "text/plain": [
       "array([[[0.45238095, 0.66666667, 1.        ],\n",
       "        [0.61904762, 0.66666667, 0.23809524],\n",
       "        [0.07142857, 0.5       , 0.        ]],\n",
       "\n",
       "       [[0.97619048, 0.85714286, 0.5952381 ],\n",
       "        [0.52380952, 0.23809524, 0.42857143],\n",
       "        [0.26190476, 0.9047619 , 0.66666667]],\n",
       "\n",
       "       [[0.95238095, 1.        , 0.02380952],\n",
       "        [0.14285714, 0.28571429, 0.64285714],\n",
       "        [0.28571429, 0.61904762, 0.83333333]]])"
      ]
     },
     "execution_count": 35,
     "metadata": {},
     "output_type": "execute_result"
    }
   ],
   "source": [
    "arr1 = np.random.randint(1,50,27).reshape(3,3,3)\n",
    "normalized_arr1 = (arr1 - arr1.min()) / (arr1.max() - arr1.min())\n",
    "#print(arr1)\n",
    "normalized_arr1"
   ]
  },
  {
   "cell_type": "markdown",
   "id": "4682d24e",
   "metadata": {},
   "source": [
    "13. Compute the Euclidean distance between two 1D arrays."
   ]
  },
  {
   "cell_type": "code",
   "execution_count": null,
   "id": "a06f368a",
   "metadata": {},
   "outputs": [
    {
     "name": "stdout",
     "output_type": "stream",
     "text": [
      "7.87\n",
      "[-1 -6 -5]\n"
     ]
    }
   ],
   "source": [
    "p1 = np.array([1,2,3])\n",
    "p2 = np.array([2,8,8])\n",
    "dist = np.sqrt(sum((p1-p2)**2))\n",
    "print(dist.round(2))"
   ]
  },
  {
   "cell_type": "markdown",
   "id": "eae671bf",
   "metadata": {},
   "source": [
    "14. Count the number of values greater than the mean in a random array of size 100."
   ]
  },
  {
   "cell_type": "code",
   "execution_count": 47,
   "id": "1ed951c1",
   "metadata": {},
   "outputs": [
    {
     "name": "stdout",
     "output_type": "stream",
     "text": [
      "Average of the Array is: 573.01\n",
      "\n",
      "[711 880 821 765 860 577 698 670 928 951 904 870 897 886 678 738 970 893\n",
      " 582 798 944 905 839 736 991 593 666 928 997 763 580 935 831 580 595 831\n",
      " 576 590 732 730 972 885 983 762 994 821 692 689 902 955 679 669 726 987\n",
      " 790]\n"
     ]
    }
   ],
   "source": [
    "arr = np.random.randint(100,1000,100)\n",
    "average = arr.mean()\n",
    "print(f\"Average of the Array is: {average}\\n\")\n",
    "num = []\n",
    "for ele in arr:\n",
    "    if ele > average:\n",
    "        num.append(ele)\n",
    "num_arr = np.array(num)\n",
    "print(num_arr)"
   ]
  },
  {
   "cell_type": "markdown",
   "id": "855beda0",
   "metadata": {},
   "source": [
    "15. Find the standard deviation and variance of a 2D array."
   ]
  },
  {
   "cell_type": "code",
   "execution_count": 55,
   "id": "9dcb6327",
   "metadata": {},
   "outputs": [
    {
     "name": "stdout",
     "output_type": "stream",
     "text": [
      "[[51  2 97]\n",
      " [52 96 33]\n",
      " [14 98 61]\n",
      " [73 97 58]\n",
      " [48 66 68]] \n",
      "\n",
      "The variance of the array is : 2447.39\n",
      "\n",
      "The standard deviation of the data is: 49.47\n"
     ]
    }
   ],
   "source": [
    "arr = np.random.randint(0,100,15).reshape(5,3)\n",
    "print(arr,\"\\n\")\n",
    "average = arr.mean()\n",
    "variance = ((arr - average)**2).sum() / len(arr)\n",
    "print(f\"The variance of the array is : {variance:.2f}\\n\")\n",
    "sd = np.sqrt(variance)\n",
    "print(f\"The standard deviation of the data is: {sd:.2f}\")"
   ]
  },
  {
   "cell_type": "markdown",
   "id": "8143a980",
   "metadata": {},
   "source": [
    "> Boolean Logic & Filtering"
   ]
  },
  {
   "cell_type": "markdown",
   "id": "7ec1ab8f",
   "metadata": {},
   "source": [
    "16. Replace all NaN values in an array with the mean of the non-NaN values."
   ]
  },
  {
   "cell_type": "code",
   "execution_count": 65,
   "id": "152d1f6a",
   "metadata": {},
   "outputs": [
    {
     "name": "stdout",
     "output_type": "stream",
     "text": [
      "[ 1.   2.   5.8  5.   8.   5.8 13. ]\n"
     ]
    }
   ],
   "source": [
    "arr = np.array([1,2,np.nan,5,8,np.nan,13])\n",
    "avg = np.nanmean(arr)\n",
    "arr[np.isnan(arr)] = avg\n",
    "print(arr)"
   ]
  },
  {
   "cell_type": "markdown",
   "id": "1536bce1",
   "metadata": {},
   "source": [
    "17. Find the index of the maximum element in a 2D array."
   ]
  },
  {
   "cell_type": "code",
   "execution_count": 66,
   "id": "f27aa9b7",
   "metadata": {},
   "outputs": [
    {
     "data": {
      "text/plain": [
       "np.int64(8)"
      ]
     },
     "execution_count": 66,
     "metadata": {},
     "output_type": "execute_result"
    }
   ],
   "source": [
    "arr = np.array([1,2,3,4,5,6,7,8,9]).reshape(3,3)\n",
    "max_ele = np.argmax(arr)\n",
    "max_ele"
   ]
  },
  {
   "cell_type": "markdown",
   "id": "8d1cf08c",
   "metadata": {},
   "source": [
    "18. Create a mask for values in an array that are negative, and make them 0."
   ]
  },
  {
   "cell_type": "code",
   "execution_count": null,
   "id": "cb586c10",
   "metadata": {},
   "outputs": [],
   "source": [
    "arr = np.arange(-5,5).reshape(5,2)\n",
    "print(arr,\"\\n\")\n",
    "arr[ arr < 0] = 0\n",
    "print(arr)"
   ]
  },
  {
   "cell_type": "markdown",
   "id": "d823a862",
   "metadata": {},
   "source": [
    "19. Check if any row in a matrix has all elements > 10."
   ]
  },
  {
   "cell_type": "code",
   "execution_count": 19,
   "id": "b7d0b5fe",
   "metadata": {},
   "outputs": [
    {
     "data": {
      "text/plain": [
       "np.True_"
      ]
     },
     "execution_count": 19,
     "metadata": {},
     "output_type": "execute_result"
    }
   ],
   "source": [
    "arr = np.array([[11, 12, 13],\n",
    "                [5, 15, 11],\n",
    "                [14, 16, 17]])\n",
    "\n",
    "# 1. Perform element-wise comparison\n",
    "greater_than_10 = arr > 10\n",
    "\n",
    "# 2. Check if all elements in each row are greater than 10\n",
    "# (results in a boolean array for each row)\n",
    "all_in_row_greater_than_10 = np.all(greater_than_10, axis=1)\n",
    "\n",
    "# 3. Check if any row has all elements greater than 10\n",
    "any_row_meets_condition = np.any(all_in_row_greater_than_10)\n",
    "any_row_meets_condition\n"
   ]
  },
  {
   "cell_type": "markdown",
   "id": "b0c60edc",
   "metadata": {},
   "source": [
    "20. How many unique values exist in an array?"
   ]
  },
  {
   "cell_type": "code",
   "execution_count": 25,
   "id": "7fce54f8",
   "metadata": {},
   "outputs": [
    {
     "name": "stdout",
     "output_type": "stream",
     "text": [
      "[ 5 11 12 13 14 15 16 17]\n"
     ]
    }
   ],
   "source": [
    "arr = np.array([[11, 12, 13],\n",
    "                [5, 15, 11],\n",
    "                [14, 16, 17]])\n",
    "arr_unique = np.unique(arr)\n",
    "print(arr_unique)"
   ]
  },
  {
   "cell_type": "markdown",
   "id": "33b54a69",
   "metadata": {},
   "source": [
    "> Broadcasting & Advanced Tasks"
   ]
  },
  {
   "cell_type": "markdown",
   "id": "834096e8",
   "metadata": {},
   "source": [
    "21. Subtract the row mean from each row in a 2D array."
   ]
  },
  {
   "cell_type": "code",
   "execution_count": 34,
   "id": "003141ef",
   "metadata": {},
   "outputs": [
    {
     "name": "stdout",
     "output_type": "stream",
     "text": [
      "For the array:\n",
      "[[11 12 13]\n",
      " [ 5 15 11]\n",
      " [14 16 17]]\n",
      "\n",
      "The average value array of each column is:\n",
      "[[12.  ]\n",
      " [10.33]\n",
      " [15.67]]\n",
      "\n",
      "Array after subtracting the mean array from array :\n",
      "[[-1.    0.    1.  ]\n",
      " [-5.33  4.67  0.67]\n",
      " [-1.67  0.33  1.33]]\n"
     ]
    }
   ],
   "source": [
    "arr = np.array([[11, 12, 13],\n",
    "                [5, 15, 11],\n",
    "                [14, 16, 17]])\n",
    "arr_mean = np.mean(arr,axis=1).round(2).reshape(3,1)\n",
    "sub = arr -arr_mean\n",
    "print(f\"For the array:\\n{arr}\\n\")\n",
    "print(f\"The average value array of each column is:\\n{arr_mean}\\n\")\n",
    "print(f\"Array after subtracting the mean array from array :\\n{sub}\")"
   ]
  },
  {
   "cell_type": "markdown",
   "id": "53e8ba5d",
   "metadata": {},
   "source": [
    "22. Generate a checkerboard pattern (8x8) using only 0s and 1s."
   ]
  },
  {
   "cell_type": "code",
   "execution_count": 9,
   "id": "974898d4",
   "metadata": {},
   "outputs": [
    {
     "name": "stdout",
     "output_type": "stream",
     "text": [
      "[[1 0 1 0 1 0 1 0]\n",
      " [0 1 0 1 0 1 0 1]\n",
      " [1 0 1 0 1 0 1 0]\n",
      " [0 1 0 1 0 1 0 1]\n",
      " [1 0 1 0 1 0 1 0]\n",
      " [0 1 0 1 0 1 0 1]\n",
      " [1 0 1 0 1 0 1 0]\n",
      " [0 1 0 1 0 1 0 1]]\n"
     ]
    }
   ],
   "source": [
    "arr = np.zeros((8,8),dtype=int)\n",
    "arr[::2,::2] = 1\n",
    "arr[1::2,1::2] = 1\n",
    "print(arr)"
   ]
  },
  {
   "cell_type": "markdown",
   "id": "11c07ba7",
   "metadata": {},
   "source": [
    "23. Create a 1D array of 1000 numbers and count how many fall between 250 and 750."
   ]
  },
  {
   "cell_type": "code",
   "execution_count": 22,
   "id": "d616dae5",
   "metadata": {},
   "outputs": [
    {
     "data": {
      "text/plain": [
       "499"
      ]
     },
     "execution_count": 22,
     "metadata": {},
     "output_type": "execute_result"
    }
   ],
   "source": [
    "arr = np.arange(1,1001)\n",
    "new = arr[(arr > 250) & ( arr < 750) ] \n",
    "count = np.size(new)\n",
    "count"
   ]
  },
  {
   "cell_type": "markdown",
   "id": "35db421c",
   "metadata": {},
   "source": [
    "24. Replace the max value in an array with 0, without using np.where."
   ]
  },
  {
   "cell_type": "code",
   "execution_count": 39,
   "id": "5ed40b48",
   "metadata": {},
   "outputs": [
    {
     "name": "stdout",
     "output_type": "stream",
     "text": [
      "[ 5  2  0  7 30  0]\n"
     ]
    }
   ],
   "source": [
    "arr = np.array([5, 2, 99, 7, 30, 99])  # test with repeated max value\n",
    "max_val = arr.max()\n",
    "arr[arr == max_val] = 0\n",
    "print(arr)"
   ]
  },
  {
   "cell_type": "markdown",
   "id": "afac76b6",
   "metadata": {},
   "source": []
  }
 ],
 "metadata": {
  "kernelspec": {
   "display_name": "Python 3",
   "language": "python",
   "name": "python3"
  },
  "language_info": {
   "codemirror_mode": {
    "name": "ipython",
    "version": 3
   },
   "file_extension": ".py",
   "mimetype": "text/x-python",
   "name": "python",
   "nbconvert_exporter": "python",
   "pygments_lexer": "ipython3",
   "version": "3.11.9"
  }
 },
 "nbformat": 4,
 "nbformat_minor": 5
}
