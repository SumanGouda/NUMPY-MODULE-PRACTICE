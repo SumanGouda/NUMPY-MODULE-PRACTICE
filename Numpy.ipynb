{
 "cells": [
  {
   "cell_type": "code",
   "execution_count": 1,
   "id": "e5d3be7b",
   "metadata": {},
   "outputs": [],
   "source": [
    "import numpy as np"
   ]
  },
  {
   "cell_type": "markdown",
   "id": "9b5861cb",
   "metadata": {},
   "source": [
    "-> Write a NumPy program to test whether none of the elements of a given array are zero."
   ]
  },
  {
   "cell_type": "code",
   "execution_count": null,
   "id": "c05110a5",
   "metadata": {},
   "outputs": [],
   "source": [
    "x = np.array([0, 1, 2, 3])\n",
    "print(np.all(x))   #Return False cause the array x do have 0 in it.\n",
    "\n",
    "x = np.array([0, 1, 0, 0])\n",
    "print(np.any(x))    #Return True becasue the array X do have a non-zero element."
   ]
  },
  {
   "cell_type": "markdown",
   "id": "b5cb0e48",
   "metadata": {},
   "source": [
    "-> Write a NumPy program to test a given array element-wise for finiteness (not infinity or not a number)."
   ]
  },
  {
   "cell_type": "code",
   "execution_count": null,
   "id": "66d8385d",
   "metadata": {},
   "outputs": [],
   "source": [
    "arr = np.array([1, 0, np.inf, np.nan, -np.inf, 2.5])\n",
    "print(np.isfinite(arr)) #It returns a boolean array of the same shape, with True indicating a finite number and False indicating a non-finite number.\n",
    "\n",
    "arr = np.array([1, 0, np.inf, np.nan, -np.inf, 2.5])\n",
    "print(np.isposinf(arr)) #Return true for that element which is positive infinite."
   ]
  },
  {
   "cell_type": "markdown",
   "id": "2637a41f",
   "metadata": {},
   "source": [
    "-> Write a NumPy program to test element-wise for complex numbers, real numbers in a given array. Also test if a given number is of a scalar type or not."
   ]
  },
  {
   "cell_type": "code",
   "execution_count": null,
   "id": "177c1892",
   "metadata": {},
   "outputs": [],
   "source": [
    "array = np.array([1+1j, 1+0j, 4.5, 3, 2, 2j])\n",
    "a = 2\n",
    "print(np.iscomplex(array))   #Return true if the element is a complex.\n",
    "print(np.isreal(array))   #Return true if the element is a real.\n",
    "print(np.isscalar(array))   #Return true if the element is a scaler.\n",
    "#  In NumPy, a scalar element refers to a single value inside a NumPy array — not an array or list itself, but just one numerical value (like an int, float, or even a complex number).\n",
    "print(np.isscalar(a))"
   ]
  },
  {
   "cell_type": "markdown",
   "id": "72a2e4fa",
   "metadata": {},
   "source": [
    "--> Convert a array to list."
   ]
  },
  {
   "cell_type": "code",
   "execution_count": null,
   "id": "4647b4c8",
   "metadata": {},
   "outputs": [],
   "source": [
    "l = [1,2,3,4]\n",
    "np.array(l)"
   ]
  },
  {
   "cell_type": "markdown",
   "id": "62d09d05",
   "metadata": {},
   "source": [
    "--> Create a 3 dimensional array."
   ]
  },
  {
   "cell_type": "code",
   "execution_count": null,
   "id": "40c24d83",
   "metadata": {},
   "outputs": [
    {
     "name": "stdout",
     "output_type": "stream",
     "text": [
      "3\n"
     ]
    }
   ],
   "source": [
    "ar3 = np.array([[[1,2,3,4],[1,2,3,4],[1,2,3,4]]])\n",
    "print(ar3.ndim)"
   ]
  },
  {
   "cell_type": "markdown",
   "id": "5c4cfe32",
   "metadata": {},
   "source": [
    "--> Create a multidimensional array."
   ]
  },
  {
   "cell_type": "code",
   "execution_count": null,
   "id": "fc9505f4",
   "metadata": {},
   "outputs": [],
   "source": [
    "var = np.array([1,2,3,4,5],ndmin = 5)\n",
    "print(var.ndim)"
   ]
  },
  {
   "cell_type": "markdown",
   "id": "56ae34b6",
   "metadata": {},
   "source": [
    "--> Create a zero array."
   ]
  },
  {
   "cell_type": "code",
   "execution_count": null,
   "id": "060a48a7",
   "metadata": {},
   "outputs": [],
   "source": [
    "zero_array = np.zeros(4)\n",
    "zero_array1 = np.zeros((3,4))   #Creates a 2D array of 3 rows and 4 columns.\n",
    "print(zero_array1,\"\\n\")\n",
    "\n",
    "one_array = np.ones(6)\n",
    "print(one_array,\"\\n\")   #Creates an 1D array of 6 columns and 1 row.\n",
    "\n",
    "new = one_array.reshape(2,3)    #Reshape the 1D array to a 2D array of 2 Rows and 3 Columns.\n",
    "print(new)"
   ]
  },
  {
   "cell_type": "markdown",
   "id": "bec5f483",
   "metadata": {},
   "source": [
    "--> Rearanging an existing array."
   ]
  },
  {
   "cell_type": "code",
   "execution_count": null,
   "id": "0c6a1f3d",
   "metadata": {},
   "outputs": [],
   "source": [
    "arr = np.array([10, 20, 30, 40, 50, 60])\n",
    "new = arr.reshape(3,2)\n",
    "print(new)"
   ]
  },
  {
   "cell_type": "markdown",
   "id": "d93f4e5a",
   "metadata": {},
   "source": [
    "Create an empty array."
   ]
  },
  {
   "cell_type": "code",
   "execution_count": null,
   "id": "eab835e7",
   "metadata": {},
   "outputs": [],
   "source": [
    "emp_array = np.empty(6)\n",
    "print(emp_array)"
   ]
  },
  {
   "cell_type": "markdown",
   "id": "da9b14f4",
   "metadata": {},
   "source": [
    "--> Create an array with digonal element as 1."
   ]
  },
  {
   "cell_type": "code",
   "execution_count": null,
   "id": "a23f1466",
   "metadata": {},
   "outputs": [],
   "source": [
    "ar_dia = np.eye(5,5)\n",
    "print(ar_dia)   #Creates a square matrix type array with digonal entries 1."
   ]
  },
  {
   "cell_type": "markdown",
   "id": "8f54f071",
   "metadata": {},
   "source": [
    "--> Create an array with a perticular gap."
   ]
  },
  {
   "cell_type": "code",
   "execution_count": null,
   "id": "6c28f707",
   "metadata": {},
   "outputs": [],
   "source": [
    "ar_lin = np.linspace(0,10,num = 6)\n",
    "print(ar_lin)"
   ]
  },
  {
   "cell_type": "markdown",
   "id": "7c33ef39",
   "metadata": {},
   "source": [
    "--> Creating a random array."
   ]
  },
  {
   "cell_type": "code",
   "execution_count": null,
   "id": "25a49de4",
   "metadata": {},
   "outputs": [],
   "source": [
    "var = np.random.rand(2)   #Creates a positive number between 0 to 1\n",
    "print(var,\"\\n\")\n",
    "\n",
    "var1 = np.random.randn(2)   #Creates both positive and negetive number\n",
    "print(var1,\"\\n\")\n",
    "\n",
    "var2 = np.random.ranf(4)    #Creates array with numbers between [0,1)\n",
    "print(var2,\"\\n\")\n",
    "\n",
    "var3 = np.random.randint(4,16,6)    #Creates 6 numbers between 4 and 16.\n",
    "print(var3)"
   ]
  },
  {
   "cell_type": "markdown",
   "id": "80c4afcc",
   "metadata": {},
   "source": [
    "## Datatype in Numpy array"
   ]
  },
  {
   "cell_type": "code",
   "execution_count": null,
   "id": "31a3d700",
   "metadata": {},
   "outputs": [],
   "source": [
    "var = np.array([10, 20, 30, 40, 50, 60],dtype=np.int32)     # Change the datatype to int32\n",
    "# print(var.dtype)\n",
    "\n",
    "new = np.float32(var)   #Converts the data type to float.\n",
    "print(var.dtype)\n",
    "print(new.dtype)\n",
    "print(var)\n",
    "print(new)"
   ]
  },
  {
   "cell_type": "code",
   "execution_count": null,
   "id": "a4a62ad2",
   "metadata": {},
   "outputs": [],
   "source": [
    "var = np.array([10, 20, 30, 40, 50, 60])\n",
    "new_var = var.astype(float)     # This will convert the integer datatype to a float data type.\n",
    "print(new_var)"
   ]
  },
  {
   "cell_type": "markdown",
   "id": "98a6da81",
   "metadata": {},
   "source": [
    "## Arithmetic Operation in NumPy Arrays."
   ]
  },
  {
   "cell_type": "markdown",
   "id": "f8567f9b",
   "metadata": {},
   "source": [
    "--> For 1D array."
   ]
  },
  {
   "cell_type": "code",
   "execution_count": null,
   "id": "3037341e",
   "metadata": {},
   "outputs": [],
   "source": [
    "var1 = np.array([1,0,3,4,5])\n",
    "var2 = np.array([7,8,9,6,5])\n",
    "\n",
    "var_add = var1 + 3   #Add 3 to each element of the array.\n",
    "print(var_add,\"\\n\")\n",
    "\n",
    "var_sub = var1 - var2   # Or can also use ar_sub = np.sub(var1 , var2)\n",
    "print(var_sub,\"\\n\")     # Subtract each element of var2 from the same positioned element of var1.\n",
    "\n",
    "var_mul = var1 * var2   # np.multiply(var1, var2)\n",
    "print(var_mul,\"\\n\") \n",
    "\n",
    "var_div = var1 / var2   # np.divide(var1, var2)\n",
    "print(var_div,\"\\n\")\n",
    "\n",
    "var_mod = var1 % var2   # np.mod(var1, var2)\n",
    "print(var_mod,\"\\n\")     # Returns the remainder when var1 is divided by var2.\n",
    "\n",
    "var_pow = var1**var2    # np.power(var1,var2)\n",
    "print(var_pow,\"\\n\")\n",
    "\n",
    "var_res = 1 / var1      # np.reciprocal(var1)\n",
    "print(var_res,\"\\n\")\n"
   ]
  },
  {
   "cell_type": "markdown",
   "id": "946a3c10",
   "metadata": {},
   "source": [
    "--> For 2D array"
   ]
  },
  {
   "cell_type": "code",
   "execution_count": null,
   "id": "6c43c681",
   "metadata": {},
   "outputs": [],
   "source": [
    "var1 = np.array([[1,2,3,4,5], [8,5,2,1,6]])\n",
    "var2 = np.array([[7,8,9,6,5], [9,4,6,3,7]])\n",
    "\n",
    "var_add = var1 + var2   #Add 3 to each element of the array.\n",
    "print(var_add,\"\\n\")\n",
    "\n",
    "var_sub = var1 - var2   # Or can also use ar_sub = np.sub(var1 , var2)\n",
    "print(var_sub,\"\\n\")     # Subtract each element of var2 from the same positioned element of var1.\n",
    "\n",
    "var_mul = var1 * var2   # np.multiply(var1, var2)\n",
    "print(var_mul,\"\\n\") \n",
    "\n",
    "var_div = var1 / var2   # np.divide(var1, var2)\n",
    "print(var_div,\"\\n\")\n",
    "\n",
    "var_mod = var1 % var2   # np.mod(var1, var2)\n",
    "print(var_mod,\"\\n\")     # Returns the remainder when var1 is divided by var2.\n",
    "\n",
    "var_pow = var1**var2    # np.power(var1,var2)\n",
    "print(var_pow,\"\\n\")\n",
    "\n",
    "var_res = 1 / var1      # np.reciprocal(var1)\n",
    "print(var_res,\"\\n\")\n"
   ]
  },
  {
   "cell_type": "markdown",
   "id": "7f6847e0",
   "metadata": {},
   "source": [
    "## Arithematic Operations in NumPy"
   ]
  },
  {
   "cell_type": "markdown",
   "id": "6ebba26f",
   "metadata": {},
   "source": [
    "--> 1D array"
   ]
  },
  {
   "cell_type": "code",
   "execution_count": null,
   "id": "83028e71",
   "metadata": {},
   "outputs": [],
   "source": [
    "var = np.array([1,2,3,4,5])\n",
    "print(\"Min: \",np.min(var), \"Index Number: \", np.argmin(var))    # np.argmin(var) will return the index number of min value in the array.\n",
    "print(\"Max: \",np.max(var), \"Index Number: \", np.argmax(var))    # np.argmax(var) will return the index number of max value in the array.\n"
   ]
  },
  {
   "cell_type": "markdown",
   "id": "0461f211",
   "metadata": {},
   "source": [
    "--> 2D array"
   ]
  },
  {
   "cell_type": "code",
   "execution_count": null,
   "id": "8b7c5196",
   "metadata": {},
   "outputs": [],
   "source": [
    "var = np.array([[1,2,3,4,5] , [8,9,7,4,6]])\n",
    "print(var,\"\\n\")\n",
    "\n",
    "print(\"Minimum along the rows: \",np.min(var, axis=1),\"\\n\")   # axis = 1 suggests the operation to be row wise.\n",
    "print(\"Maximum along the columns: \", np.max(var, axis = 0),\"\\n\")     # axis = 0 suggests to perform the operation column wise.\n",
    "\n",
    "print(\"Square Root of each element: \", np.sqrt(var),\"\\n\")\n",
    "\n",
    "print(\"sin of each element: \", np.sin(var),\"\\n\")\n",
    "print(\"cos of each element: \", np.cos(var),\"\\n\")"
   ]
  },
  {
   "cell_type": "markdown",
   "id": "e08f135d",
   "metadata": {},
   "source": [
    "--> CUMSUM function"
   ]
  },
  {
   "cell_type": "code",
   "execution_count": 37,
   "id": "3f017892",
   "metadata": {},
   "outputs": [
    {
     "name": "stdout",
     "output_type": "stream",
     "text": [
      "[ 1  3  6 10 15]\n"
     ]
    }
   ],
   "source": [
    "#    numpy. cumsum() function is used to compute the cumulative sum of elements in an array. Cumulative sum refers to a sequence where each element is the sum of all previous elements plus itself.\n",
    "var = np.array([1,2,3,4,5])\n",
    "print(np.cumsum(var))"
   ]
  },
  {
   "cell_type": "markdown",
   "id": "6eb1485c",
   "metadata": {},
   "source": [
    "## Shape and Reshaping in NumPy Arrays."
   ]
  },
  {
   "cell_type": "markdown",
   "id": "4ffd36e9",
   "metadata": {},
   "source": [
    "--> Shape in Numpy"
   ]
  },
  {
   "cell_type": "code",
   "execution_count": null,
   "id": "d001ca6e",
   "metadata": {},
   "outputs": [],
   "source": [
    "var = np.array([[1,2,5],[4,6,5]])\n",
    "var1 = np.array([1,2,3,4,5],ndmin=5)\n",
    "\n",
    "print(var)\n",
    "print(var.shape,\"\\n\")       # The output (2,3) means the first dimension have 2 elements and the 2nd dimension have 3 elements init.\n",
    "\n",
    "print(var1)\n",
    "print(var1.shape)   #   (1, 1, 1, 1, 5), each dimesion have one element but the last one have 5 elements init."
   ]
  },
  {
   "cell_type": "markdown",
   "id": "487d1b72",
   "metadata": {},
   "source": [
    "--> Reshape a NumPy array"
   ]
  },
  {
   "cell_type": "code",
   "execution_count": null,
   "id": "bcf7ea17",
   "metadata": {},
   "outputs": [],
   "source": [
    "var = np.array([[1,2,5],[4,6,5]])\n",
    "var_new = var.reshape(6)    # Converts the array to a new array which have six element in the first and only dimesion.\n",
    "var_new1 = var.reshape(1,2,3)   # Now the array becomes 3 dimesional with first dimension having 1, second having 2 and the third having 3 elements each.\n",
    "\n",
    "print(var_new, \"\\n\")\n",
    "print(var_new1, \"\\n\")\n",
    "\n",
    "# To convert back var_new1 again to 1D array:\n",
    "new = var_new1.reshape(-1) \n",
    "print(new)"
   ]
  },
  {
   "cell_type": "markdown",
   "id": "8cde0c83",
   "metadata": {},
   "source": [
    "## Broadcasting in NumPy arrays"
   ]
  },
  {
   "cell_type": "code",
   "execution_count": null,
   "id": "1bdc7f95",
   "metadata": {},
   "outputs": [],
   "source": [
    "var = np.array([[1],\n",
    "                [2]])       # Shape : (2 x 1)\n",
    "var1 = np.array([[1,2,3],\n",
    "                 [7,8,9]])  # Shape : (2 x 3)  \n",
    "#  When operating on two arrays, NumPy compares their shapes element-wise. It starts with the trailing \n",
    "#           (i.e. rightmost) dimension and works its way left. Two dimensions are compatible when:\n",
    "#           1. they are equal, or\n",
    "#           2. one of them is 1.\n",
    "\n",
    "print(var + var1,\"\\n\")\n",
    "print(var - var1,\"\\n\")\n",
    "print(var * var1,\"\\n\")\n",
    "print(var % var1,\"\\n\")\n",
    "\n"
   ]
  },
  {
   "cell_type": "markdown",
   "id": "c9f7ecd0",
   "metadata": {},
   "source": [
    "## Indexing & Slicing "
   ]
  },
  {
   "cell_type": "markdown",
   "id": "38ae4ea0",
   "metadata": {},
   "source": [
    "--> 1D array"
   ]
  },
  {
   "cell_type": "code",
   "execution_count": null,
   "id": "5ae6d0c6",
   "metadata": {},
   "outputs": [],
   "source": [
    "var = np.array([1,2,3,4])\n",
    "print(var[2])   # Returns the 2nd index in the array\n",
    "print(var[-3])\n",
    " "
   ]
  },
  {
   "cell_type": "markdown",
   "id": "d346f00a",
   "metadata": {},
   "source": [
    "--> 2D array"
   ]
  },
  {
   "cell_type": "code",
   "execution_count": null,
   "id": "62107875",
   "metadata": {},
   "outputs": [],
   "source": [
    "var = np.array([[1,2,3,4] , [4,5,6,9]])\n",
    "print(var[0,3])     # Returns the element from the zeroth index of 1st dimension and 3rd index of second dimension."
   ]
  },
  {
   "cell_type": "markdown",
   "id": "7d4011e8",
   "metadata": {},
   "source": [
    "--> 3D array"
   ]
  },
  {
   "cell_type": "code",
   "execution_count": null,
   "id": "d7beca8a",
   "metadata": {},
   "outputs": [
    {
     "name": "stdout",
     "output_type": "stream",
     "text": [
      "7\n",
      "(2, 2, 3)\n"
     ]
    }
   ],
   "source": [
    "var = np.array([[[1,2,3],[2,5,8]],[[1,7,9],[5,7,3]]])\n",
    "print(var[1,1,1])\n",
    "print(var.shape)\n"
   ]
  },
  {
   "cell_type": "markdown",
   "id": "1721dd59",
   "metadata": {},
   "source": [
    "--> Slicing an array"
   ]
  },
  {
   "cell_type": "code",
   "execution_count": null,
   "id": "9c22957c",
   "metadata": {},
   "outputs": [],
   "source": [
    "#   [ start : stop : step ]\n",
    "var = np.array([1,8,9,5,7,66,1,22,48,955,30])\n",
    "print(var[2:5])     # Mark that this will retun values upto the 4th index.\n",
    "print(var[2:])\n",
    "print(var[:4])\n",
    "print(var[1:6:2])       # The data will jump by 2 position\n",
    "print(var[::2])"
   ]
  },
  {
   "cell_type": "markdown",
   "id": "1adbae93",
   "metadata": {},
   "source": [
    "--> 2D array"
   ]
  },
  {
   "cell_type": "code",
   "execution_count": null,
   "id": "1d3f1b1d",
   "metadata": {},
   "outputs": [],
   "source": [
    "var = np.array([[1,2,3,4] , [4,5,6,9]])\n",
    "print(var[0,1:])    # Start slicing from the zroth element of first dimesion and 1st element of second dimension."
   ]
  },
  {
   "cell_type": "markdown",
   "id": "761a5a50",
   "metadata": {},
   "source": [
    "--> 3D array"
   ]
  },
  {
   "cell_type": "code",
   "execution_count": null,
   "id": "df82d30f",
   "metadata": {},
   "outputs": [],
   "source": [
    "var = np.array([[[1,2,3],[2,5,8]],[[1,7,9],[5,7,3]]])\n",
    "print(var[1,0,1:])"
   ]
  },
  {
   "cell_type": "markdown",
   "id": "2a8d80f9",
   "metadata": {},
   "source": [
    "## Iteration in NumPy Array"
   ]
  },
  {
   "cell_type": "markdown",
   "id": "10571110",
   "metadata": {},
   "source": [
    "--> Using for loop "
   ]
  },
  {
   "cell_type": "code",
   "execution_count": null,
   "id": "667e816d",
   "metadata": {},
   "outputs": [],
   "source": [
    "var1 = np.array([6,5,8,9,7,6,2])\n",
    "for i in var1:\n",
    "    print(i)\n",
    "\n",
    "print()    \n",
    "\n",
    "var2 = np.array([[1,2,3,4],[5,4,6,9]])\n",
    "for i in var2:\n",
    "    print(i)\n",
    "\n",
    "print()\n",
    "\n",
    "var3 = np.array([[[1,2,3],[5,2,4]],[[5,8,7],[7,8,3]]])\n",
    "for i in var3:\n",
    "    print(i)"
   ]
  },
  {
   "cell_type": "markdown",
   "id": "e38eb63f",
   "metadata": {},
   "source": [
    "--> Using Numpy fucntion "
   ]
  },
  {
   "cell_type": "code",
   "execution_count": null,
   "id": "3badb749",
   "metadata": {},
   "outputs": [],
   "source": [
    "var3 = np.array([[[1,2,3],[5,2,4]],[[5,8,7],[7,8,3]]])\n",
    "for i in np.nditer(var3):\n",
    "    print(i)\n",
    "    \n",
    "for i,data in np.ndenumerate(var3):\n",
    "    print(i,data)       # Returns the value with the index number."
   ]
  },
  {
   "cell_type": "markdown",
   "id": "f53718f4",
   "metadata": {},
   "source": [
    "## Copy and view function "
   ]
  },
  {
   "cell_type": "markdown",
   "id": "ec689d1d",
   "metadata": {},
   "source": [
    "copy():\n",
    "--> Use it when you want a completely independent copy of the array.\n",
    "\n",
    "--> Changes to the new array won’t affect the original array."
   ]
  },
  {
   "cell_type": "code",
   "execution_count": null,
   "id": "7f0ad9ab",
   "metadata": {},
   "outputs": [],
   "source": [
    "var1 = np.array([6,5,8,9,7,6,2])\n",
    "cp = var1.copy()\n",
    "\n",
    "var1[3] = 10    # It will only change in the var1 array not in cp.\n",
    "\n",
    "print(\"var1: \",var1)\n",
    "print(\"cp: \",cp)"
   ]
  },
  {
   "cell_type": "markdown",
   "id": "66265a28",
   "metadata": {},
   "source": [
    "view():\n",
    "--> Creates a new array object that shares the same data as the original.\n",
    "\n",
    "--> Changes to one will affect the other."
   ]
  },
  {
   "cell_type": "code",
   "execution_count": null,
   "id": "89521987",
   "metadata": {},
   "outputs": [],
   "source": [
    "var1 = np.array([6,5,8,9,7,6,2])\n",
    "vw = var1.view()\n",
    "\n",
    "var1[3] = 10    # It will change in the var1 array alogn with vw.\n",
    "\n",
    "print(\"var1: \",var1)\n",
    "print(\"cp: \",vw)"
   ]
  },
  {
   "cell_type": "markdown",
   "id": "8a6c5c89",
   "metadata": {},
   "source": [
    "#  Understanding Tolerance In Numpy."
   ]
  },
  {
   "cell_type": "code",
   "execution_count": null,
   "id": "9b87d3d7",
   "metadata": {},
   "outputs": [],
   "source": [
    "a = 0.1\n",
    "b = 0.2\n",
    "c = 0.3\n",
    "\n",
    "# Direct comparison\n",
    "print(\"a + b == c:\", a + b == c)  # Expected: True, Actual: False\n",
    "\n",
    "# Show the actual result\n",
    "print(\"a + b =\", a + b)\n",
    "print(\"c     =\", c)\n"
   ]
  },
  {
   "cell_type": "code",
   "execution_count": null,
   "id": "eb03b566",
   "metadata": {},
   "outputs": [],
   "source": [
    "# 💡 Why This Happens:\n",
    "# 0.1 and 0.2 can't be perfectly represented in binary (just like 1/3 can't be in decimal).\n",
    "# So when Python adds 0.1 + 0.2, the result is slightly more than 0.3 (like 0.30000000000000004).\n",
    "\n",
    "print(\"Using np.isclose:\", np.isclose(a + b, c))  # Correct way ✅\n"
   ]
  },
  {
   "cell_type": "markdown",
   "id": "35d9e51f",
   "metadata": {},
   "source": [
    "-> Write a NumPy program to test whether two arrays are element-wise equal within a tolerance."
   ]
  },
  {
   "cell_type": "code",
   "execution_count": 6,
   "id": "9f5c6668",
   "metadata": {},
   "outputs": [
    {
     "data": {
      "text/plain": [
       "array([ True,  True, False])"
      ]
     },
     "execution_count": 6,
     "metadata": {},
     "output_type": "execute_result"
    }
   ],
   "source": [
    "np.isclose([1,1.000001,1.00002] , [1.00001, 1.001, 1.2], rtol=1e-1, atol=1e-5)\n",
    "# abs(a-b) <= ( atol + rtol * abs(b))\n",
    "# atol is that tolerance which shows how much the data 'a' can varies by it's own."
   ]
  },
  {
   "cell_type": "markdown",
   "id": "dbc9011c",
   "metadata": {},
   "source": []
  },
  {
   "cell_type": "code",
   "execution_count": null,
   "id": "16807f52",
   "metadata": {},
   "outputs": [],
   "source": []
  }
 ],
 "metadata": {
  "kernelspec": {
   "display_name": "Python 3",
   "language": "python",
   "name": "python3"
  },
  "language_info": {
   "codemirror_mode": {
    "name": "ipython",
    "version": 3
   },
   "file_extension": ".py",
   "mimetype": "text/x-python",
   "name": "python",
   "nbconvert_exporter": "python",
   "pygments_lexer": "ipython3",
   "version": "3.11.9"
  }
 },
 "nbformat": 4,
 "nbformat_minor": 5
}
